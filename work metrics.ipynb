{
 "cells": [
  {
   "cell_type": "markdown",
   "metadata": {
    "collapsed": true,
    "pycharm": {
     "name": "#%% md\n"
    }
   },
   "source": [
    "# Personal metrics\n",
    "Grayson Ricketts\n",
    "\n",
    "July 2019 - mid September 2019\n",
    "\n",
    "---\n",
    "\n",
    "## Objectives\n",
    "* Be productive 70% of the days I’m in office \n",
    "* Be very productive 20% of the days I’m in office\n",
    "* Be in a very good mood at least 10% of the days I’m in the  office\n",
    "* Be in a good mood at least 80% of the days I’m in the office\n",
    "* Be in a bad mood for no more than 20% of the days I’m in the office\n",
    "* Drink no more than 150 ug of caffeine a day\n",
    "* Get at least 8 hours of sleep 95% of the time\n",
    "* Have at least good sleep quality 95% of the time\n",
    "\n",
    "\n",
    "## Questions\n",
    "* ✅How many hours am I working?\n",
    "* ✅What are the daily averages for ...?\n",
    "    * Productivity\n",
    "    * Mood\n",
    "    * Sleep\n",
    "    * Caffeine\n",
    "    * Sleep quality\n",
    "    * Caffeine\n",
    "* ✅What is correlated with productivity?\n",
    "* ✅What is correlated with mood?\n",
    "* ❌What is the change over time for ... (at a weekly average level)?\n",
    "    * Productivity\n",
    "    * Mood\n",
    "    * Sleep\n",
    "    * Caffeine\n",
    "    * Sleep quality\n",
    "    * Caffeine\n",
    "* ❌What’s the difference between the AM and PM?\n",
    "* ❌How do things change if it's a prod support week?\n"
   ]
  },
  {
   "cell_type": "code",
   "execution_count": 47,
   "outputs": [],
   "source": [
    "import pandas as pd\n",
    "import matplotlib.pyplot as plt\n",
    "\n",
    "metrics_file_name = 'data/daily-metrics-9-22-2019.csv'"
   ],
   "metadata": {
    "collapsed": false,
    "pycharm": {
     "name": "#%%\n",
     "is_executing": false
    }
   }
  },
  {
   "cell_type": "code",
   "execution_count": 48,
   "outputs": [],
   "source": [
    "df = pd.read_csv(metrics_file_name)\n",
    "\n",
    "week_day_df = df[df['weekend'] == False]\n",
    "week_day_df = df.drop(labels=['weekend'], axis=1)"
   ],
   "metadata": {
    "collapsed": false,
    "pycharm": {
     "name": "#%%\n",
     "is_executing": false
    }
   }
  },
  {
   "cell_type": "code",
   "execution_count": 49,
   "outputs": [
    {
     "name": "stdout",
     "text": [
      "Average hours on a weekday: 7.97\n"
     ],
     "output_type": "stream"
    }
   ],
   "source": [
    "average_hours_worked = week_day_df['hours'].mean()\n",
    "print('Average hours on a weekday: {0}'.format(round(average_hours_worked, 2)))"
   ],
   "metadata": {
    "collapsed": false,
    "pycharm": {
     "name": "#%%\n",
     "is_executing": false
    }
   }
  },
  {
   "cell_type": "code",
   "execution_count": 50,
   "outputs": [
    {
     "name": "stdout",
     "text": [
      "Daily averages\n\tquality: 3.5 / 5\n\tmood: 3.4 / 5\n\tstress: 3.78 / 5\n\tmotivation: 3.28 / 5\n\tfocus: 2.5 / 5\n"
     ],
     "output_type": "stream"
    },
    {
     "data": {
      "text/plain": "<Figure size 432x288 with 1 Axes>",
      "image/png": "[encoded data removed]"
     },
     "metadata": {
      "needs_background": "light"
     },
     "output_type": "display_data"
    },
    {
     "data": {
      "text/plain": "<Figure size 432x288 with 1 Axes>",
      "image/png": "[encoded data removed]"
     },
     "metadata": {
      "needs_background": "light"
     },
     "output_type": "display_data"
    },
    {
     "data": {
      "text/plain": "<Figure size 432x288 with 1 Axes>",
      "image/png": "[encoded data removed]"
     },
     "metadata": {
      "needs_background": "light"
     },
     "output_type": "display_data"
    },
    {
     "data": {
      "text/plain": "<Figure size 432x288 with 1 Axes>",
      "image/png": "[encoded data removed]"
     },
     "metadata": {
      "needs_background": "light"
     },
     "output_type": "display_data"
    },
    {
     "data": {
      "text/plain": "<Figure size 432x288 with 1 Axes>",
      "image/png": "[encoded data removed]"
     },
     "metadata": {
      "needs_background": "light"
     },
     "output_type": "display_data"
    }
   ],
   "source": [
    "def get_daily_average(df, index):\n",
    "    series = df[index][df[index] > 1]\n",
    "    average = series.mean()\n",
    "    return round(average, 2)\n",
    "\n",
    "def print_and_graph_daily_average(df, index):\n",
    "    print('\\t{0}: {1} / 5'.format(index, get_daily_average(week_day_df, index)))\n",
    "    \n",
    "    min_df = df[index][df[index] > 1]\n",
    "    min_df.hist(bins=4, label=index)\n",
    "\n",
    "n = 0\n",
    "metrics = ['quality', 'mood', 'stress', 'motivation', 'focus']\n",
    "\n",
    "print('Daily averages')\n",
    "for m in metrics:\n",
    "    plt.figure(n)\n",
    "    n = n + 1\n",
    "    print_and_graph_daily_average(week_day_df, m)\n"
   ],
   "metadata": {
    "collapsed": false,
    "pycharm": {
     "name": "#%%\n",
     "is_executing": false
    }
   }
  },
  {
   "cell_type": "code",
   "execution_count": 50,
   "outputs": [],
   "source": [],
   "metadata": {
    "collapsed": false,
    "pycharm": {
     "name": "#%%\n",
     "is_executing": false
    }
   }
  },
  {
   "cell_type": "code",
   "execution_count": 51,
   "outputs": [
    {
     "data": {
      "text/plain": "<pandas.io.formats.style.Styler at 0x11709cc10>",
      "text/html": "<style  type=\"text/css\" >\n    #T_8e79fdec_de0c_11e9_b80c_acde48001122row0_col0 {\n            background-color:  #b40426;\n            color:  #f1f1f1;\n        }    #T_8e79fdec_de0c_11e9_b80c_acde48001122row0_col1 {\n            background-color:  #7699f6;\n            color:  #000000;\n        }    #T_8e79fdec_de0c_11e9_b80c_acde48001122row0_col2 {\n            background-color:  #6788ee;\n            color:  #000000;\n        }    #T_8e79fdec_de0c_11e9_b80c_acde48001122row0_col3 {\n            background-color:  #5470de;\n            color:  #000000;\n        }    #T_8e79fdec_de0c_11e9_b80c_acde48001122row0_col4 {\n            background-color:  #5977e3;\n            color:  #000000;\n        }    #T_8e79fdec_de0c_11e9_b80c_acde48001122row0_col5 {\n            background-color:  #3b4cc0;\n            color:  #f1f1f1;\n        }    #T_8e79fdec_de0c_11e9_b80c_acde48001122row0_col6 {\n            background-color:  #6282ea;\n            color:  #000000;\n        }    #T_8e79fdec_de0c_11e9_b80c_acde48001122row0_col7 {\n            background-color:  #5977e3;\n            color:  #000000;\n        }    #T_8e79fdec_de0c_11e9_b80c_acde48001122row0_col8 {\n            background-color:  #3b4cc0;\n            color:  #f1f1f1;\n        }    #T_8e79fdec_de0c_11e9_b80c_acde48001122row0_col9 {\n            background-color:  #5b7ae5;\n            color:  #000000;\n        }    #T_8e79fdec_de0c_11e9_b80c_acde48001122row1_col0 {\n            background-color:  #7597f6;\n            color:  #000000;\n        }    #T_8e79fdec_de0c_11e9_b80c_acde48001122row1_col1 {\n            background-color:  #b40426;\n            color:  #f1f1f1;\n        }    #T_8e79fdec_de0c_11e9_b80c_acde48001122row1_col2 {\n            background-color:  #b5cdfa;\n            color:  #000000;\n        }    #T_8e79fdec_de0c_11e9_b80c_acde48001122row1_col3 {\n            background-color:  #536edd;\n            color:  #000000;\n        }    #T_8e79fdec_de0c_11e9_b80c_acde48001122row1_col4 {\n            background-color:  #e5d8d1;\n            color:  #000000;\n        }    #T_8e79fdec_de0c_11e9_b80c_acde48001122row1_col5 {\n            background-color:  #eed0c0;\n            color:  #000000;\n        }    #T_8e79fdec_de0c_11e9_b80c_acde48001122row1_col6 {\n            background-color:  #ead5c9;\n            color:  #000000;\n        }    #T_8e79fdec_de0c_11e9_b80c_acde48001122row1_col7 {\n            background-color:  #f7bca1;\n            color:  #000000;\n        }    #T_8e79fdec_de0c_11e9_b80c_acde48001122row1_col8 {\n            background-color:  #f4987a;\n            color:  #000000;\n        }    #T_8e79fdec_de0c_11e9_b80c_acde48001122row1_col9 {\n            background-color:  #80a3fa;\n            color:  #000000;\n        }    #T_8e79fdec_de0c_11e9_b80c_acde48001122row2_col0 {\n            background-color:  #4c66d6;\n            color:  #000000;\n        }    #T_8e79fdec_de0c_11e9_b80c_acde48001122row2_col1 {\n            background-color:  #a1c0ff;\n            color:  #000000;\n        }    #T_8e79fdec_de0c_11e9_b80c_acde48001122row2_col2 {\n            background-color:  #b40426;\n            color:  #f1f1f1;\n        }    #T_8e79fdec_de0c_11e9_b80c_acde48001122row2_col3 {\n            background-color:  #3b4cc0;\n            color:  #f1f1f1;\n        }    #T_8e79fdec_de0c_11e9_b80c_acde48001122row2_col4 {\n            background-color:  #9dbdff;\n            color:  #000000;\n        }    #T_8e79fdec_de0c_11e9_b80c_acde48001122row2_col5 {\n            background-color:  #88abfd;\n            color:  #000000;\n        }    #T_8e79fdec_de0c_11e9_b80c_acde48001122row2_col6 {\n            background-color:  #7093f3;\n            color:  #000000;\n        }    #T_8e79fdec_de0c_11e9_b80c_acde48001122row2_col7 {\n            background-color:  #9ebeff;\n            color:  #000000;\n        }    #T_8e79fdec_de0c_11e9_b80c_acde48001122row2_col8 {\n            background-color:  #a7c5fe;\n            color:  #000000;\n        }    #T_8e79fdec_de0c_11e9_b80c_acde48001122row2_col9 {\n            background-color:  #3b4cc0;\n            color:  #f1f1f1;\n        }    #T_8e79fdec_de0c_11e9_b80c_acde48001122row3_col0 {\n            background-color:  #3b4cc0;\n            color:  #f1f1f1;\n        }    #T_8e79fdec_de0c_11e9_b80c_acde48001122row3_col1 {\n            background-color:  #3b4cc0;\n            color:  #f1f1f1;\n        }    #T_8e79fdec_de0c_11e9_b80c_acde48001122row3_col2 {\n            background-color:  #3b4cc0;\n            color:  #f1f1f1;\n        }    #T_8e79fdec_de0c_11e9_b80c_acde48001122row3_col3 {\n            background-color:  #b40426;\n            color:  #f1f1f1;\n        }    #T_8e79fdec_de0c_11e9_b80c_acde48001122row3_col4 {\n            background-color:  #a6c4fe;\n            color:  #000000;\n        }    #T_8e79fdec_de0c_11e9_b80c_acde48001122row3_col5 {\n            background-color:  #f29274;\n            color:  #000000;\n        }    #T_8e79fdec_de0c_11e9_b80c_acde48001122row3_col6 {\n            background-color:  #89acfd;\n            color:  #000000;\n        }    #T_8e79fdec_de0c_11e9_b80c_acde48001122row3_col7 {\n            background-color:  #3b4cc0;\n            color:  #f1f1f1;\n        }    #T_8e79fdec_de0c_11e9_b80c_acde48001122row3_col8 {\n            background-color:  #4e68d8;\n            color:  #000000;\n        }    #T_8e79fdec_de0c_11e9_b80c_acde48001122row3_col9 {\n            background-color:  #4257c9;\n            color:  #f1f1f1;\n        }    #T_8e79fdec_de0c_11e9_b80c_acde48001122row4_col0 {\n            background-color:  #6c8ff1;\n            color:  #000000;\n        }    #T_8e79fdec_de0c_11e9_b80c_acde48001122row4_col1 {\n            background-color:  #ecd3c5;\n            color:  #000000;\n        }    #T_8e79fdec_de0c_11e9_b80c_acde48001122row4_col2 {\n            background-color:  #bfd3f6;\n            color:  #000000;\n        }    #T_8e79fdec_de0c_11e9_b80c_acde48001122row4_col3 {\n            background-color:  #c6d6f1;\n            color:  #000000;\n        }    #T_8e79fdec_de0c_11e9_b80c_acde48001122row4_col4 {\n            background-color:  #b40426;\n            color:  #f1f1f1;\n        }    #T_8e79fdec_de0c_11e9_b80c_acde48001122row4_col5 {\n            background-color:  #e97a5f;\n            color:  #000000;\n        }    #T_8e79fdec_de0c_11e9_b80c_acde48001122row4_col6 {\n            background-color:  #c32e31;\n            color:  #f1f1f1;\n        }    #T_8e79fdec_de0c_11e9_b80c_acde48001122row4_col7 {\n            background-color:  #f6a385;\n            color:  #000000;\n        }    #T_8e79fdec_de0c_11e9_b80c_acde48001122row4_col8 {\n            background-color:  #f3c8b2;\n            color:  #000000;\n        }    #T_8e79fdec_de0c_11e9_b80c_acde48001122row4_col9 {\n            background-color:  #5e7de7;\n            color:  #000000;\n        }    #T_8e79fdec_de0c_11e9_b80c_acde48001122row5_col0 {\n            background-color:  #4055c8;\n            color:  #f1f1f1;\n        }    #T_8e79fdec_de0c_11e9_b80c_acde48001122row5_col1 {\n            background-color:  #f0cdbb;\n            color:  #000000;\n        }    #T_8e79fdec_de0c_11e9_b80c_acde48001122row5_col2 {\n            background-color:  #a5c3fe;\n            color:  #000000;\n        }    #T_8e79fdec_de0c_11e9_b80c_acde48001122row5_col3 {\n            background-color:  #ef886b;\n            color:  #000000;\n        }    #T_8e79fdec_de0c_11e9_b80c_acde48001122row5_col4 {\n            background-color:  #eb7d62;\n            color:  #000000;\n        }    #T_8e79fdec_de0c_11e9_b80c_acde48001122row5_col5 {\n            background-color:  #b40426;\n            color:  #f1f1f1;\n        }    #T_8e79fdec_de0c_11e9_b80c_acde48001122row5_col6 {\n            background-color:  #f08b6e;\n            color:  #000000;\n        }    #T_8e79fdec_de0c_11e9_b80c_acde48001122row5_col7 {\n            background-color:  #efcebd;\n            color:  #000000;\n        }    #T_8e79fdec_de0c_11e9_b80c_acde48001122row5_col8 {\n            background-color:  #d9dce1;\n            color:  #000000;\n        }    #T_8e79fdec_de0c_11e9_b80c_acde48001122row5_col9 {\n            background-color:  #6a8bef;\n            color:  #000000;\n        }    #T_8e79fdec_de0c_11e9_b80c_acde48001122row6_col0 {\n            background-color:  #86a9fc;\n            color:  #000000;\n        }    #T_8e79fdec_de0c_11e9_b80c_acde48001122row6_col1 {\n            background-color:  #f2c9b4;\n            color:  #000000;\n        }    #T_8e79fdec_de0c_11e9_b80c_acde48001122row6_col2 {\n            background-color:  #aac7fd;\n            color:  #000000;\n        }    #T_8e79fdec_de0c_11e9_b80c_acde48001122row6_col3 {\n            background-color:  #bcd2f7;\n            color:  #000000;\n        }    #T_8e79fdec_de0c_11e9_b80c_acde48001122row6_col4 {\n            background-color:  #c12b30;\n            color:  #f1f1f1;\n        }    #T_8e79fdec_de0c_11e9_b80c_acde48001122row6_col5 {\n            background-color:  #ec8165;\n            color:  #000000;\n        }    #T_8e79fdec_de0c_11e9_b80c_acde48001122row6_col6 {\n            background-color:  #b40426;\n            color:  #f1f1f1;\n        }    #T_8e79fdec_de0c_11e9_b80c_acde48001122row6_col7 {\n            background-color:  #f29072;\n            color:  #000000;\n        }    #T_8e79fdec_de0c_11e9_b80c_acde48001122row6_col8 {\n            background-color:  #f6bfa6;\n            color:  #000000;\n        }    #T_8e79fdec_de0c_11e9_b80c_acde48001122row6_col9 {\n            background-color:  #7093f3;\n            color:  #000000;\n        }    #T_8e79fdec_de0c_11e9_b80c_acde48001122row7_col0 {\n            background-color:  #86a9fc;\n            color:  #000000;\n        }    #T_8e79fdec_de0c_11e9_b80c_acde48001122row7_col1 {\n            background-color:  #f7aa8c;\n            color:  #000000;\n        }    #T_8e79fdec_de0c_11e9_b80c_acde48001122row7_col2 {\n            background-color:  #cfdaea;\n            color:  #000000;\n        }    #T_8e79fdec_de0c_11e9_b80c_acde48001122row7_col3 {\n            background-color:  #82a6fb;\n            color:  #000000;\n        }    #T_8e79fdec_de0c_11e9_b80c_acde48001122row7_col4 {\n            background-color:  #f4987a;\n            color:  #000000;\n        }    #T_8e79fdec_de0c_11e9_b80c_acde48001122row7_col5 {\n            background-color:  #f5c0a7;\n            color:  #000000;\n        }    #T_8e79fdec_de0c_11e9_b80c_acde48001122row7_col6 {\n            background-color:  #f18d6f;\n            color:  #000000;\n        }    #T_8e79fdec_de0c_11e9_b80c_acde48001122row7_col7 {\n            background-color:  #b40426;\n            color:  #f1f1f1;\n        }    #T_8e79fdec_de0c_11e9_b80c_acde48001122row7_col8 {\n            background-color:  #ec7f63;\n            color:  #000000;\n        }    #T_8e79fdec_de0c_11e9_b80c_acde48001122row7_col9 {\n            background-color:  #80a3fa;\n            color:  #000000;\n        }    #T_8e79fdec_de0c_11e9_b80c_acde48001122row8_col0 {\n            background-color:  #4f69d9;\n            color:  #000000;\n        }    #T_8e79fdec_de0c_11e9_b80c_acde48001122row8_col1 {\n            background-color:  #f29072;\n            color:  #000000;\n        }    #T_8e79fdec_de0c_11e9_b80c_acde48001122row8_col2 {\n            background-color:  #c7d7f0;\n            color:  #000000;\n        }    #T_8e79fdec_de0c_11e9_b80c_acde48001122row8_col3 {\n            background-color:  #7da0f9;\n            color:  #000000;\n        }    #T_8e79fdec_de0c_11e9_b80c_acde48001122row8_col4 {\n            background-color:  #f3c7b1;\n            color:  #000000;\n        }    #T_8e79fdec_de0c_11e9_b80c_acde48001122row8_col5 {\n            background-color:  #dfdbd9;\n            color:  #000000;\n        }    #T_8e79fdec_de0c_11e9_b80c_acde48001122row8_col6 {\n            background-color:  #f4c5ad;\n            color:  #000000;\n        }    #T_8e79fdec_de0c_11e9_b80c_acde48001122row8_col7 {\n            background-color:  #ef886b;\n            color:  #000000;\n        }    #T_8e79fdec_de0c_11e9_b80c_acde48001122row8_col8 {\n            background-color:  #b40426;\n            color:  #f1f1f1;\n        }    #T_8e79fdec_de0c_11e9_b80c_acde48001122row8_col9 {\n            background-color:  #84a7fc;\n            color:  #000000;\n        }    #T_8e79fdec_de0c_11e9_b80c_acde48001122row9_col0 {\n            background-color:  #4a63d3;\n            color:  #f1f1f1;\n        }    #T_8e79fdec_de0c_11e9_b80c_acde48001122row9_col1 {\n            background-color:  #7093f3;\n            color:  #000000;\n        }    #T_8e79fdec_de0c_11e9_b80c_acde48001122row9_col2 {\n            background-color:  #4358cb;\n            color:  #f1f1f1;\n        }    #T_8e79fdec_de0c_11e9_b80c_acde48001122row9_col3 {\n            background-color:  #4a63d3;\n            color:  #f1f1f1;\n        }    #T_8e79fdec_de0c_11e9_b80c_acde48001122row9_col4 {\n            background-color:  #3b4cc0;\n            color:  #f1f1f1;\n        }    #T_8e79fdec_de0c_11e9_b80c_acde48001122row9_col5 {\n            background-color:  #5470de;\n            color:  #000000;\n        }    #T_8e79fdec_de0c_11e9_b80c_acde48001122row9_col6 {\n            background-color:  #3b4cc0;\n            color:  #f1f1f1;\n        }    #T_8e79fdec_de0c_11e9_b80c_acde48001122row9_col7 {\n            background-color:  #4257c9;\n            color:  #f1f1f1;\n        }    #T_8e79fdec_de0c_11e9_b80c_acde48001122row9_col8 {\n            background-color:  #5e7de7;\n            color:  #000000;\n        }    #T_8e79fdec_de0c_11e9_b80c_acde48001122row9_col9 {\n            background-color:  #b40426;\n            color:  #f1f1f1;\n        }</style><table id=\"T_8e79fdec_de0c_11e9_b80c_acde48001122\" ><thead>    <tr>        <th class=\"blank level0\" ></th>        <th class=\"col_heading level0 col0\" >hrs_of_sleep</th>        <th class=\"col_heading level0 col1\" >breakfast</th>        <th class=\"col_heading level0 col2\" >prod_support</th>        <th class=\"col_heading level0 col3\" >hours</th>        <th class=\"col_heading level0 col4\" >progress</th>        <th class=\"col_heading level0 col5\" >quality</th>        <th class=\"col_heading level0 col6\" >mood</th>        <th class=\"col_heading level0 col7\" >stress</th>        <th class=\"col_heading level0 col8\" >motivation</th>        <th class=\"col_heading level0 col9\" >focus</th>    </tr></thead><tbody>\n                <tr>\n                        <th id=\"T_8e79fdec_de0c_11e9_b80c_acde48001122level0_row0\" class=\"row_heading level0 row0\" >hrs_of_sleep</th>\n                        <td id=\"T_8e79fdec_de0c_11e9_b80c_acde48001122row0_col0\" class=\"data row0 col0\" >1</td>\n                        <td id=\"T_8e79fdec_de0c_11e9_b80c_acde48001122row0_col1\" class=\"data row0 col1\" >0.23</td>\n                        <td id=\"T_8e79fdec_de0c_11e9_b80c_acde48001122row0_col2\" class=\"data row0 col2\" >0.11</td>\n                        <td id=\"T_8e79fdec_de0c_11e9_b80c_acde48001122row0_col3\" class=\"data row0 col3\" >0.054</td>\n                        <td id=\"T_8e79fdec_de0c_11e9_b80c_acde48001122row0_col4\" class=\"data row0 col4\" >0.2</td>\n                        <td id=\"T_8e79fdec_de0c_11e9_b80c_acde48001122row0_col5\" class=\"data row0 col5\" >0.072</td>\n                        <td id=\"T_8e79fdec_de0c_11e9_b80c_acde48001122row0_col6\" class=\"data row0 col6\" >0.27</td>\n                        <td id=\"T_8e79fdec_de0c_11e9_b80c_acde48001122row0_col7\" class=\"data row0 col7\" >0.27</td>\n                        <td id=\"T_8e79fdec_de0c_11e9_b80c_acde48001122row0_col8\" class=\"data row0 col8\" >0.12</td>\n                        <td id=\"T_8e79fdec_de0c_11e9_b80c_acde48001122row0_col9\" class=\"data row0 col9\" >0.1</td>\n            </tr>\n            <tr>\n                        <th id=\"T_8e79fdec_de0c_11e9_b80c_acde48001122level0_row1\" class=\"row_heading level0 row1\" >breakfast</th>\n                        <td id=\"T_8e79fdec_de0c_11e9_b80c_acde48001122row1_col0\" class=\"data row1 col0\" >0.23</td>\n                        <td id=\"T_8e79fdec_de0c_11e9_b80c_acde48001122row1_col1\" class=\"data row1 col1\" >1</td>\n                        <td id=\"T_8e79fdec_de0c_11e9_b80c_acde48001122row1_col2\" class=\"data row1 col2\" >0.34</td>\n                        <td id=\"T_8e79fdec_de0c_11e9_b80c_acde48001122row1_col3\" class=\"data row1 col3\" >0.048</td>\n                        <td id=\"T_8e79fdec_de0c_11e9_b80c_acde48001122row1_col4\" class=\"data row1 col4\" >0.59</td>\n                        <td id=\"T_8e79fdec_de0c_11e9_b80c_acde48001122row1_col5\" class=\"data row1 col5\" >0.61</td>\n                        <td id=\"T_8e79fdec_de0c_11e9_b80c_acde48001122row1_col6\" class=\"data row1 col6\" >0.63</td>\n                        <td id=\"T_8e79fdec_de0c_11e9_b80c_acde48001122row1_col7\" class=\"data row1 col7\" >0.72</td>\n                        <td id=\"T_8e79fdec_de0c_11e9_b80c_acde48001122row1_col8\" class=\"data row1 col8\" >0.78</td>\n                        <td id=\"T_8e79fdec_de0c_11e9_b80c_acde48001122row1_col9\" class=\"data row1 col9\" >0.21</td>\n            </tr>\n            <tr>\n                        <th id=\"T_8e79fdec_de0c_11e9_b80c_acde48001122level0_row2\" class=\"row_heading level0 row2\" >prod_support</th>\n                        <td id=\"T_8e79fdec_de0c_11e9_b80c_acde48001122row2_col0\" class=\"data row2 col0\" >0.11</td>\n                        <td id=\"T_8e79fdec_de0c_11e9_b80c_acde48001122row2_col1\" class=\"data row2 col1\" >0.34</td>\n                        <td id=\"T_8e79fdec_de0c_11e9_b80c_acde48001122row2_col2\" class=\"data row2 col2\" >1</td>\n                        <td id=\"T_8e79fdec_de0c_11e9_b80c_acde48001122row2_col3\" class=\"data row2 col3\" >-0.035</td>\n                        <td id=\"T_8e79fdec_de0c_11e9_b80c_acde48001122row2_col4\" class=\"data row2 col4\" >0.38</td>\n                        <td id=\"T_8e79fdec_de0c_11e9_b80c_acde48001122row2_col5\" class=\"data row2 col5\" >0.29</td>\n                        <td id=\"T_8e79fdec_de0c_11e9_b80c_acde48001122row2_col6\" class=\"data row2 col6\" >0.31</td>\n                        <td id=\"T_8e79fdec_de0c_11e9_b80c_acde48001122row2_col7\" class=\"data row2 col7\" >0.43</td>\n                        <td id=\"T_8e79fdec_de0c_11e9_b80c_acde48001122row2_col8\" class=\"data row2 col8\" >0.41</td>\n                        <td id=\"T_8e79fdec_de0c_11e9_b80c_acde48001122row2_col9\" class=\"data row2 col9\" >-0.0025</td>\n            </tr>\n            <tr>\n                        <th id=\"T_8e79fdec_de0c_11e9_b80c_acde48001122level0_row3\" class=\"row_heading level0 row3\" >hours</th>\n                        <td id=\"T_8e79fdec_de0c_11e9_b80c_acde48001122row3_col0\" class=\"data row3 col0\" >0.054</td>\n                        <td id=\"T_8e79fdec_de0c_11e9_b80c_acde48001122row3_col1\" class=\"data row3 col1\" >0.048</td>\n                        <td id=\"T_8e79fdec_de0c_11e9_b80c_acde48001122row3_col2\" class=\"data row3 col2\" >-0.035</td>\n                        <td id=\"T_8e79fdec_de0c_11e9_b80c_acde48001122row3_col3\" class=\"data row3 col3\" >1</td>\n                        <td id=\"T_8e79fdec_de0c_11e9_b80c_acde48001122row3_col4\" class=\"data row3 col4\" >0.4</td>\n                        <td id=\"T_8e79fdec_de0c_11e9_b80c_acde48001122row3_col5\" class=\"data row3 col5\" >0.78</td>\n                        <td id=\"T_8e79fdec_de0c_11e9_b80c_acde48001122row3_col6\" class=\"data row3 col6\" >0.37</td>\n                        <td id=\"T_8e79fdec_de0c_11e9_b80c_acde48001122row3_col7\" class=\"data row3 col7\" >0.19</td>\n                        <td id=\"T_8e79fdec_de0c_11e9_b80c_acde48001122row3_col8\" class=\"data row3 col8\" >0.18</td>\n                        <td id=\"T_8e79fdec_de0c_11e9_b80c_acde48001122row3_col9\" class=\"data row3 col9\" >0.021</td>\n            </tr>\n            <tr>\n                        <th id=\"T_8e79fdec_de0c_11e9_b80c_acde48001122level0_row4\" class=\"row_heading level0 row4\" >progress</th>\n                        <td id=\"T_8e79fdec_de0c_11e9_b80c_acde48001122row4_col0\" class=\"data row4 col0\" >0.2</td>\n                        <td id=\"T_8e79fdec_de0c_11e9_b80c_acde48001122row4_col1\" class=\"data row4 col1\" >0.59</td>\n                        <td id=\"T_8e79fdec_de0c_11e9_b80c_acde48001122row4_col2\" class=\"data row4 col2\" >0.38</td>\n                        <td id=\"T_8e79fdec_de0c_11e9_b80c_acde48001122row4_col3\" class=\"data row4 col3\" >0.4</td>\n                        <td id=\"T_8e79fdec_de0c_11e9_b80c_acde48001122row4_col4\" class=\"data row4 col4\" >1</td>\n                        <td id=\"T_8e79fdec_de0c_11e9_b80c_acde48001122row4_col5\" class=\"data row4 col5\" >0.84</td>\n                        <td id=\"T_8e79fdec_de0c_11e9_b80c_acde48001122row4_col6\" class=\"data row4 col6\" >0.97</td>\n                        <td id=\"T_8e79fdec_de0c_11e9_b80c_acde48001122row4_col7\" class=\"data row4 col7\" >0.78</td>\n                        <td id=\"T_8e79fdec_de0c_11e9_b80c_acde48001122row4_col8\" class=\"data row4 col8\" >0.66</td>\n                        <td id=\"T_8e79fdec_de0c_11e9_b80c_acde48001122row4_col9\" class=\"data row4 col9\" >0.11</td>\n            </tr>\n            <tr>\n                        <th id=\"T_8e79fdec_de0c_11e9_b80c_acde48001122level0_row5\" class=\"row_heading level0 row5\" >quality</th>\n                        <td id=\"T_8e79fdec_de0c_11e9_b80c_acde48001122row5_col0\" class=\"data row5 col0\" >0.072</td>\n                        <td id=\"T_8e79fdec_de0c_11e9_b80c_acde48001122row5_col1\" class=\"data row5 col1\" >0.61</td>\n                        <td id=\"T_8e79fdec_de0c_11e9_b80c_acde48001122row5_col2\" class=\"data row5 col2\" >0.29</td>\n                        <td id=\"T_8e79fdec_de0c_11e9_b80c_acde48001122row5_col3\" class=\"data row5 col3\" >0.78</td>\n                        <td id=\"T_8e79fdec_de0c_11e9_b80c_acde48001122row5_col4\" class=\"data row5 col4\" >0.84</td>\n                        <td id=\"T_8e79fdec_de0c_11e9_b80c_acde48001122row5_col5\" class=\"data row5 col5\" >1</td>\n                        <td id=\"T_8e79fdec_de0c_11e9_b80c_acde48001122row5_col6\" class=\"data row5 col6\" >0.82</td>\n                        <td id=\"T_8e79fdec_de0c_11e9_b80c_acde48001122row5_col7\" class=\"data row5 col7\" >0.67</td>\n                        <td id=\"T_8e79fdec_de0c_11e9_b80c_acde48001122row5_col8\" class=\"data row5 col8\" >0.55</td>\n                        <td id=\"T_8e79fdec_de0c_11e9_b80c_acde48001122row5_col9\" class=\"data row5 col9\" >0.15</td>\n            </tr>\n            <tr>\n                        <th id=\"T_8e79fdec_de0c_11e9_b80c_acde48001122level0_row6\" class=\"row_heading level0 row6\" >mood</th>\n                        <td id=\"T_8e79fdec_de0c_11e9_b80c_acde48001122row6_col0\" class=\"data row6 col0\" >0.27</td>\n                        <td id=\"T_8e79fdec_de0c_11e9_b80c_acde48001122row6_col1\" class=\"data row6 col1\" >0.63</td>\n                        <td id=\"T_8e79fdec_de0c_11e9_b80c_acde48001122row6_col2\" class=\"data row6 col2\" >0.31</td>\n                        <td id=\"T_8e79fdec_de0c_11e9_b80c_acde48001122row6_col3\" class=\"data row6 col3\" >0.37</td>\n                        <td id=\"T_8e79fdec_de0c_11e9_b80c_acde48001122row6_col4\" class=\"data row6 col4\" >0.97</td>\n                        <td id=\"T_8e79fdec_de0c_11e9_b80c_acde48001122row6_col5\" class=\"data row6 col5\" >0.82</td>\n                        <td id=\"T_8e79fdec_de0c_11e9_b80c_acde48001122row6_col6\" class=\"data row6 col6\" >1</td>\n                        <td id=\"T_8e79fdec_de0c_11e9_b80c_acde48001122row6_col7\" class=\"data row6 col7\" >0.81</td>\n                        <td id=\"T_8e79fdec_de0c_11e9_b80c_acde48001122row6_col8\" class=\"data row6 col8\" >0.69</td>\n                        <td id=\"T_8e79fdec_de0c_11e9_b80c_acde48001122row6_col9\" class=\"data row6 col9\" >0.17</td>\n            </tr>\n            <tr>\n                        <th id=\"T_8e79fdec_de0c_11e9_b80c_acde48001122level0_row7\" class=\"row_heading level0 row7\" >stress</th>\n                        <td id=\"T_8e79fdec_de0c_11e9_b80c_acde48001122row7_col0\" class=\"data row7 col0\" >0.27</td>\n                        <td id=\"T_8e79fdec_de0c_11e9_b80c_acde48001122row7_col1\" class=\"data row7 col1\" >0.72</td>\n                        <td id=\"T_8e79fdec_de0c_11e9_b80c_acde48001122row7_col2\" class=\"data row7 col2\" >0.43</td>\n                        <td id=\"T_8e79fdec_de0c_11e9_b80c_acde48001122row7_col3\" class=\"data row7 col3\" >0.19</td>\n                        <td id=\"T_8e79fdec_de0c_11e9_b80c_acde48001122row7_col4\" class=\"data row7 col4\" >0.78</td>\n                        <td id=\"T_8e79fdec_de0c_11e9_b80c_acde48001122row7_col5\" class=\"data row7 col5\" >0.67</td>\n                        <td id=\"T_8e79fdec_de0c_11e9_b80c_acde48001122row7_col6\" class=\"data row7 col6\" >0.81</td>\n                        <td id=\"T_8e79fdec_de0c_11e9_b80c_acde48001122row7_col7\" class=\"data row7 col7\" >1</td>\n                        <td id=\"T_8e79fdec_de0c_11e9_b80c_acde48001122row7_col8\" class=\"data row7 col8\" >0.83</td>\n                        <td id=\"T_8e79fdec_de0c_11e9_b80c_acde48001122row7_col9\" class=\"data row7 col9\" >0.21</td>\n            </tr>\n            <tr>\n                        <th id=\"T_8e79fdec_de0c_11e9_b80c_acde48001122level0_row8\" class=\"row_heading level0 row8\" >motivation</th>\n                        <td id=\"T_8e79fdec_de0c_11e9_b80c_acde48001122row8_col0\" class=\"data row8 col0\" >0.12</td>\n                        <td id=\"T_8e79fdec_de0c_11e9_b80c_acde48001122row8_col1\" class=\"data row8 col1\" >0.78</td>\n                        <td id=\"T_8e79fdec_de0c_11e9_b80c_acde48001122row8_col2\" class=\"data row8 col2\" >0.41</td>\n                        <td id=\"T_8e79fdec_de0c_11e9_b80c_acde48001122row8_col3\" class=\"data row8 col3\" >0.18</td>\n                        <td id=\"T_8e79fdec_de0c_11e9_b80c_acde48001122row8_col4\" class=\"data row8 col4\" >0.66</td>\n                        <td id=\"T_8e79fdec_de0c_11e9_b80c_acde48001122row8_col5\" class=\"data row8 col5\" >0.55</td>\n                        <td id=\"T_8e79fdec_de0c_11e9_b80c_acde48001122row8_col6\" class=\"data row8 col6\" >0.69</td>\n                        <td id=\"T_8e79fdec_de0c_11e9_b80c_acde48001122row8_col7\" class=\"data row8 col7\" >0.83</td>\n                        <td id=\"T_8e79fdec_de0c_11e9_b80c_acde48001122row8_col8\" class=\"data row8 col8\" >1</td>\n                        <td id=\"T_8e79fdec_de0c_11e9_b80c_acde48001122row8_col9\" class=\"data row8 col9\" >0.22</td>\n            </tr>\n            <tr>\n                        <th id=\"T_8e79fdec_de0c_11e9_b80c_acde48001122level0_row9\" class=\"row_heading level0 row9\" >focus</th>\n                        <td id=\"T_8e79fdec_de0c_11e9_b80c_acde48001122row9_col0\" class=\"data row9 col0\" >0.1</td>\n                        <td id=\"T_8e79fdec_de0c_11e9_b80c_acde48001122row9_col1\" class=\"data row9 col1\" >0.21</td>\n                        <td id=\"T_8e79fdec_de0c_11e9_b80c_acde48001122row9_col2\" class=\"data row9 col2\" >-0.0025</td>\n                        <td id=\"T_8e79fdec_de0c_11e9_b80c_acde48001122row9_col3\" class=\"data row9 col3\" >0.021</td>\n                        <td id=\"T_8e79fdec_de0c_11e9_b80c_acde48001122row9_col4\" class=\"data row9 col4\" >0.11</td>\n                        <td id=\"T_8e79fdec_de0c_11e9_b80c_acde48001122row9_col5\" class=\"data row9 col5\" >0.15</td>\n                        <td id=\"T_8e79fdec_de0c_11e9_b80c_acde48001122row9_col6\" class=\"data row9 col6\" >0.17</td>\n                        <td id=\"T_8e79fdec_de0c_11e9_b80c_acde48001122row9_col7\" class=\"data row9 col7\" >0.21</td>\n                        <td id=\"T_8e79fdec_de0c_11e9_b80c_acde48001122row9_col8\" class=\"data row9 col8\" >0.22</td>\n                        <td id=\"T_8e79fdec_de0c_11e9_b80c_acde48001122row9_col9\" class=\"data row9 col9\" >1</td>\n            </tr>\n    </tbody></table>"
     },
     "metadata": {},
     "output_type": "execute_result",
     "execution_count": 51
    }
   ],
   "source": [
    "corr = week_day_df.corr()\n",
    "corr.style.background_gradient(cmap='coolwarm').set_precision(2)"
   ],
   "metadata": {
    "collapsed": false,
    "pycharm": {
     "name": "#%%\n",
     "is_executing": false
    }
   }
  },
  {
   "cell_type": "code",
   "execution_count": 52,
   "outputs": [],
   "source": [
    "# def get_weekly_average(df, index):\n",
    "#     # get series\n",
    "#     series = df[index]\n",
    "#     \n",
    "#     # remove 0's\n",
    "#     series = series.drop('nan')\n",
    "#     \n",
    "#     # convert to number\n",
    "#     series = series.apply(lambda val: int(val[0]))\n",
    "#     \n",
    "#     return 1"
   ],
   "metadata": {
    "collapsed": false,
    "pycharm": {
     "name": "#%%\n",
     "is_executing": false
    }
   }
  },
  {
   "cell_type": "code",
   "execution_count": 52,
   "outputs": [],
   "source": [
    "\n"
   ],
   "metadata": {
    "collapsed": false,
    "pycharm": {
     "name": "#%%\n",
     "is_executing": false
    }
   }
  }
 ],
 "metadata": {
  "language_info": {
   "codemirror_mode": {
    "name": "ipython",
    "version": 2
   },
   "file_extension": ".py",
   "mimetype": "text/x-python",
   "name": "python",
   "nbconvert_exporter": "python",
   "pygments_lexer": "ipython2",
   "version": "2.7.6"
  },
  "pycharm": {
   "stem_cell": {
    "cell_type": "raw",
    "source": [],
    "metadata": {
     "collapsed": false
    }
   }
  },
  "kernelspec": {
   "name": "python3",
   "language": "python",
   "display_name": "Python 3"
  }
 },
 "nbformat": 4,
 "nbformat_minor": 0
}