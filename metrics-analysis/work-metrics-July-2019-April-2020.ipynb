{
 "cells": [
  {
   "cell_type": "markdown",
   "metadata": {
    "collapsed": true,
    "pycharm": {
     "name": "#%% md\n"
    }
   },
   "source": [
    "# Personal metrics\n",
    "Grayson Ricketts\n",
    "\n",
    "July 2019 - April 2020\n",
    "\n",
    "---\n",
    "\n",
    "\n",
    "## Questions\n",
    "* [x] How many hours am I working?\n",
    "* [x] What are the daily averages for ...?\n",
    "    * Sleep\n",
    "    * Caffeine\n",
    "    * Hours of sleep\n",
    "    * Caffeine\n",
    "    * Good days\n",
    "* [x] What is correlated with having a good day?\n",
    "* [x] How much am I working on the week-ends? (note: I log the time I spend on personal projects in \"hours_worked\")"
   ]
  },
  {
   "cell_type": "code",
   "execution_count": 3,
   "metadata": {
    "pycharm": {
     "is_executing": false,
     "name": "#%%\n"
    }
   },
   "outputs": [],
   "source": [
    "import pandas as pd\n",
    "import matplotlib.pyplot as plt\n",
    "import numpy as np\n",
    "import seaborn as sns"
   ]
  },
  {
   "cell_type": "code",
   "execution_count": 4,
   "metadata": {},
   "outputs": [],
   "source": [
    "metrics_file_name = './data/daily-metrics-july-2019-april-2020.tsv'\n",
    "df = pd.read_csv(metrics_file_name, sep=\"\\t\")"
   ]
  },
  {
   "cell_type": "code",
   "execution_count": 5,
   "metadata": {},
   "outputs": [],
   "source": [
    "# Drop columsn related to eating since never consistently entered data for this\n",
    "df = df.drop(columns=['ate_reasonably', 'breakfast'])\n",
    "\n",
    "# Drop AM and PM because according to previous analysis no noticeable difference\n",
    "# between AM and PM. Going to look at daily instead (e.g. (AM+PM)/2 ).\n",
    "df = df.drop(columns=['am_progress','am_quality','am_mood','am_stress','am_motivation','am_focus','am_hunger','am_contact_switching'])\n",
    "df = df.drop(columns=['pm_progress','pm_quality','pm_mood','pm_stress','pm_motivation','pm_focus','pm_hunger','pm_contact_switching'])"
   ]
  },
  {
   "cell_type": "code",
   "execution_count": 6,
   "metadata": {},
   "outputs": [],
   "source": [
    "# Clean\n",
    "is_string = df.select_dtypes(['object'])\n",
    "df[is_string.columns] = is_string.apply(lambda x: x.str.strip())"
   ]
  },
  {
   "cell_type": "code",
   "execution_count": 7,
   "metadata": {},
   "outputs": [],
   "source": [
    "df['date'] = pd.to_datetime(df['date'], format='%Y-%m-%d')"
   ]
  },
  {
   "cell_type": "code",
   "execution_count": 8,
   "metadata": {},
   "outputs": [],
   "source": [
    "# Convert strings to numbers\n",
    "for x in ['hours_worked']:\n",
    "    df[x] = pd.to_numeric(df[x])"
   ]
  },
  {
   "cell_type": "code",
   "execution_count": 9,
   "metadata": {},
   "outputs": [],
   "source": [
    "# Sleep quality and anxiety was measured with the values \"very bad\", \"bad\", \n",
    "# \"okay\", \"good\", and \"very good\" in the spreadsheet. In the df they'll \n",
    "# be converted to numbers for easier analysis.\n",
    "def convert_to_number(x):\n",
    "    if x == 'very bad':\n",
    "        return 1\n",
    "    elif x == 'bad':\n",
    "        return 2\n",
    "    elif x == 'okay':\n",
    "        return 3\n",
    "    elif x == 'good':\n",
    "        return 4\n",
    "    elif x == 'very good':\n",
    "        return 5\n",
    "    \n",
    "    return np.nan\n",
    "for x in ['sleep_quality', 'anxiety']:\n",
    "    df[x] = df[x].apply(lambda v : convert_to_number(v))"
   ]
  },
  {
   "cell_type": "code",
   "execution_count": 10,
   "metadata": {},
   "outputs": [],
   "source": [
    "# Energy at the start of the day was measured with the values \"1-Very Bad\", \"2-Bad\", \n",
    "# \"3-Okay\", \"4-Good\", and \"5-Very good\" in the spreadsheet. In the df they'll \n",
    "# be converted to numbers for easier analysis.\n",
    "df['energy_at_start'] = df['energy_at_start'].apply(lambda x: np.nan if pd.isnull(x) else int(x[0]))"
   ]
  },
  {
   "cell_type": "code",
   "execution_count": 11,
   "metadata": {},
   "outputs": [],
   "source": [
    "# Dropping nterruptions and tasks since they're measurement has\n",
    "# least integrity to me.\n",
    "df = df.drop(columns=['interruptions', 'tasks'])"
   ]
  },
  {
   "cell_type": "code",
   "execution_count": 12,
   "metadata": {},
   "outputs": [],
   "source": [
    "# Dropping meetings since they are inevitable and my\n",
    "# measurement  is impercise (i.e. none, few, many, \n",
    "# constant). If I were to do again I would \n",
    "# do by minutes per day.\n",
    "df = df.drop(columns='meeetings')"
   ]
  },
  {
   "cell_type": "code",
   "execution_count": 13,
   "metadata": {},
   "outputs": [
    {
     "data": {
      "text/plain": [
       "date               datetime64[ns]\n",
       "good_day                     bool\n",
       "weekend                      bool\n",
       "caffeine                  float64\n",
       "hours_worked              float64\n",
       "sick_day                     bool\n",
       "vacation                     bool\n",
       "hrs_of_sleep              float64\n",
       "sleep_quality             float64\n",
       "anxiety                   float64\n",
       "energy_at_start           float64\n",
       "prod_support                 bool\n",
       "progress                  float64\n",
       "quality                   float64\n",
       "mood                      float64\n",
       "stress                    float64\n",
       "motivation                float64\n",
       "focus                     float64\n",
       "dtype: object"
      ]
     },
     "execution_count": 13,
     "metadata": {},
     "output_type": "execute_result"
    }
   ],
   "source": [
    "df.dtypes"
   ]
  },
  {
   "cell_type": "code",
   "execution_count": 14,
   "metadata": {},
   "outputs": [
    {
     "data": {
      "text/plain": [
       "(255, 18)"
      ]
     },
     "execution_count": 14,
     "metadata": {},
     "output_type": "execute_result"
    }
   ],
   "source": [
    "df.shape"
   ]
  },
  {
   "cell_type": "code",
   "execution_count": 15,
   "metadata": {
    "pycharm": {
     "is_executing": false,
     "name": "#%%\n"
    }
   },
   "outputs": [],
   "source": [
    "# Gets only days I was working\n",
    "work_df = df[(df['weekend'] == False) & (df['vacation'] == False) & (df['sick_day'] == False)]\n",
    "\n",
    "# Drops the weekend column since no longer needed\n",
    "work_df = work_df.drop(columns=['weekend', 'vacation', 'sick_day'])"
   ]
  },
  {
   "cell_type": "code",
   "execution_count": 16,
   "metadata": {},
   "outputs": [
    {
     "data": {
      "text/plain": [
       "(182, 15)"
      ]
     },
     "execution_count": 16,
     "metadata": {},
     "output_type": "execute_result"
    }
   ],
   "source": [
    "work_df.shape"
   ]
  },
  {
   "cell_type": "code",
   "execution_count": 17,
   "metadata": {},
   "outputs": [
    {
     "data": {
      "text/html": [
       "<div>\n",
       "<style scoped>\n",
       "    .dataframe tbody tr th:only-of-type {\n",
       "        vertical-align: middle;\n",
       "    }\n",
       "\n",
       "    .dataframe tbody tr th {\n",
       "        vertical-align: top;\n",
       "    }\n",
       "\n",
       "    .dataframe thead th {\n",
       "        text-align: right;\n",
       "    }\n",
       "</style>\n",
       "<table border=\"1\" class=\"dataframe\">\n",
       "  <thead>\n",
       "    <tr style=\"text-align: right;\">\n",
       "      <th></th>\n",
       "      <th>caffeine</th>\n",
       "      <th>hours_worked</th>\n",
       "      <th>hrs_of_sleep</th>\n",
       "      <th>sleep_quality</th>\n",
       "      <th>anxiety</th>\n",
       "      <th>energy_at_start</th>\n",
       "      <th>progress</th>\n",
       "      <th>quality</th>\n",
       "      <th>mood</th>\n",
       "      <th>stress</th>\n",
       "      <th>motivation</th>\n",
       "      <th>focus</th>\n",
       "    </tr>\n",
       "  </thead>\n",
       "  <tbody>\n",
       "    <tr>\n",
       "      <th>count</th>\n",
       "      <td>176.000000</td>\n",
       "      <td>179.000000</td>\n",
       "      <td>171.000000</td>\n",
       "      <td>171.000000</td>\n",
       "      <td>171.000000</td>\n",
       "      <td>139.000000</td>\n",
       "      <td>182.000000</td>\n",
       "      <td>182.000000</td>\n",
       "      <td>182.000000</td>\n",
       "      <td>182.000000</td>\n",
       "      <td>182.000000</td>\n",
       "      <td>182.000000</td>\n",
       "    </tr>\n",
       "    <tr>\n",
       "      <th>mean</th>\n",
       "      <td>156.789773</td>\n",
       "      <td>8.248603</td>\n",
       "      <td>8.383041</td>\n",
       "      <td>3.771930</td>\n",
       "      <td>4.000000</td>\n",
       "      <td>3.539568</td>\n",
       "      <td>2.989011</td>\n",
       "      <td>3.486264</td>\n",
       "      <td>2.942308</td>\n",
       "      <td>2.983516</td>\n",
       "      <td>2.442308</td>\n",
       "      <td>2.189560</td>\n",
       "    </tr>\n",
       "    <tr>\n",
       "      <th>std</th>\n",
       "      <td>98.517909</td>\n",
       "      <td>0.970961</td>\n",
       "      <td>1.259460</td>\n",
       "      <td>1.063029</td>\n",
       "      <td>0.840168</td>\n",
       "      <td>0.861968</td>\n",
       "      <td>1.602791</td>\n",
       "      <td>1.231976</td>\n",
       "      <td>1.581391</td>\n",
       "      <td>1.890585</td>\n",
       "      <td>1.736263</td>\n",
       "      <td>1.824042</td>\n",
       "    </tr>\n",
       "    <tr>\n",
       "      <th>min</th>\n",
       "      <td>0.000000</td>\n",
       "      <td>4.000000</td>\n",
       "      <td>4.000000</td>\n",
       "      <td>1.000000</td>\n",
       "      <td>1.000000</td>\n",
       "      <td>1.000000</td>\n",
       "      <td>0.000000</td>\n",
       "      <td>0.000000</td>\n",
       "      <td>0.000000</td>\n",
       "      <td>0.000000</td>\n",
       "      <td>0.000000</td>\n",
       "      <td>0.000000</td>\n",
       "    </tr>\n",
       "    <tr>\n",
       "      <th>25%</th>\n",
       "      <td>90.000000</td>\n",
       "      <td>8.000000</td>\n",
       "      <td>8.000000</td>\n",
       "      <td>3.000000</td>\n",
       "      <td>4.000000</td>\n",
       "      <td>3.000000</td>\n",
       "      <td>2.125000</td>\n",
       "      <td>3.125000</td>\n",
       "      <td>2.000000</td>\n",
       "      <td>1.500000</td>\n",
       "      <td>0.000000</td>\n",
       "      <td>0.000000</td>\n",
       "    </tr>\n",
       "    <tr>\n",
       "      <th>50%</th>\n",
       "      <td>150.000000</td>\n",
       "      <td>8.000000</td>\n",
       "      <td>8.500000</td>\n",
       "      <td>4.000000</td>\n",
       "      <td>4.000000</td>\n",
       "      <td>4.000000</td>\n",
       "      <td>3.500000</td>\n",
       "      <td>4.000000</td>\n",
       "      <td>3.500000</td>\n",
       "      <td>4.000000</td>\n",
       "      <td>3.000000</td>\n",
       "      <td>2.500000</td>\n",
       "    </tr>\n",
       "    <tr>\n",
       "      <th>75%</th>\n",
       "      <td>225.000000</td>\n",
       "      <td>8.500000</td>\n",
       "      <td>9.000000</td>\n",
       "      <td>5.000000</td>\n",
       "      <td>5.000000</td>\n",
       "      <td>4.000000</td>\n",
       "      <td>4.000000</td>\n",
       "      <td>4.000000</td>\n",
       "      <td>4.000000</td>\n",
       "      <td>4.500000</td>\n",
       "      <td>4.000000</td>\n",
       "      <td>4.000000</td>\n",
       "    </tr>\n",
       "    <tr>\n",
       "      <th>max</th>\n",
       "      <td>420.000000</td>\n",
       "      <td>12.000000</td>\n",
       "      <td>13.000000</td>\n",
       "      <td>5.000000</td>\n",
       "      <td>5.000000</td>\n",
       "      <td>5.000000</td>\n",
       "      <td>5.000000</td>\n",
       "      <td>5.000000</td>\n",
       "      <td>5.000000</td>\n",
       "      <td>5.000000</td>\n",
       "      <td>5.000000</td>\n",
       "      <td>5.000000</td>\n",
       "    </tr>\n",
       "  </tbody>\n",
       "</table>\n",
       "</div>"
      ],
      "text/plain": [
       "         caffeine  hours_worked  hrs_of_sleep  sleep_quality     anxiety  \\\n",
       "count  176.000000    179.000000    171.000000     171.000000  171.000000   \n",
       "mean   156.789773      8.248603      8.383041       3.771930    4.000000   \n",
       "std     98.517909      0.970961      1.259460       1.063029    0.840168   \n",
       "min      0.000000      4.000000      4.000000       1.000000    1.000000   \n",
       "25%     90.000000      8.000000      8.000000       3.000000    4.000000   \n",
       "50%    150.000000      8.000000      8.500000       4.000000    4.000000   \n",
       "75%    225.000000      8.500000      9.000000       5.000000    5.000000   \n",
       "max    420.000000     12.000000     13.000000       5.000000    5.000000   \n",
       "\n",
       "       energy_at_start    progress     quality        mood      stress  \\\n",
       "count       139.000000  182.000000  182.000000  182.000000  182.000000   \n",
       "mean          3.539568    2.989011    3.486264    2.942308    2.983516   \n",
       "std           0.861968    1.602791    1.231976    1.581391    1.890585   \n",
       "min           1.000000    0.000000    0.000000    0.000000    0.000000   \n",
       "25%           3.000000    2.125000    3.125000    2.000000    1.500000   \n",
       "50%           4.000000    3.500000    4.000000    3.500000    4.000000   \n",
       "75%           4.000000    4.000000    4.000000    4.000000    4.500000   \n",
       "max           5.000000    5.000000    5.000000    5.000000    5.000000   \n",
       "\n",
       "       motivation       focus  \n",
       "count  182.000000  182.000000  \n",
       "mean     2.442308    2.189560  \n",
       "std      1.736263    1.824042  \n",
       "min      0.000000    0.000000  \n",
       "25%      0.000000    0.000000  \n",
       "50%      3.000000    2.500000  \n",
       "75%      4.000000    4.000000  \n",
       "max      5.000000    5.000000  "
      ]
     },
     "execution_count": 17,
     "metadata": {},
     "output_type": "execute_result"
    }
   ],
   "source": [
    "work_df.describe()"
   ]
  },
  {
   "cell_type": "code",
   "execution_count": 18,
   "metadata": {
    "pycharm": {
     "is_executing": false,
     "name": "#%%\n"
    }
   },
   "outputs": [
    {
     "name": "stdout",
     "output_type": "stream",
     "text": [
      "Average hours on a weekday: 8.25\n"
     ]
    }
   ],
   "source": [
    "average_hours_worked = work_df['hours_worked'].mean()\n",
    "print('Average hours on a weekday: {0}'.format(round(average_hours_worked, 2)))"
   ]
  },
  {
   "cell_type": "code",
   "execution_count": 19,
   "metadata": {},
   "outputs": [
    {
     "data": {
      "text/plain": [
       "<matplotlib.axes._subplots.AxesSubplot at 0x7f13c64c3790>"
      ]
     },
     "execution_count": 19,
     "metadata": {},
     "output_type": "execute_result"
    },
    {
     "data": {
      "image/png": "[encoded data removed]",
      "text/plain": [
       "<Figure size 432x288 with 1 Axes>"
      ]
     },
     "metadata": {
      "needs_background": "light"
     },
     "output_type": "display_data"
    }
   ],
   "source": [
    "work_df.plot(y='hours_worked', x='date')"
   ]
  },
  {
   "cell_type": "code",
   "execution_count": 20,
   "metadata": {},
   "outputs": [
    {
     "data": {
      "text/plain": [
       "<matplotlib.axes._subplots.AxesSubplot at 0x7f13c3d73fd0>"
      ]
     },
     "execution_count": 20,
     "metadata": {},
     "output_type": "execute_result"
    },
    {
     "data": {
      "image/png": "[encoded data removed]",
      "text/plain": [
       "<Figure size 432x288 with 1 Axes>"
      ]
     },
     "metadata": {
      "needs_background": "light"
     },
     "output_type": "display_data"
    }
   ],
   "source": [
    "work_df['hours_worked'].value_counts().sort_index().plot.bar()"
   ]
  },
  {
   "cell_type": "code",
   "execution_count": 21,
   "metadata": {
    "pycharm": {
     "is_executing": false,
     "name": "#%%\n"
    }
   },
   "outputs": [
    {
     "name": "stdout",
     "output_type": "stream",
     "text": [
      "Daily averages\n",
      "\tprogress: 3.62 / 5 (150 days tracked)\n",
      "\tquality: 3.79 / 5 (167 days tracked)\n",
      "\tmood: 3.63 / 5 (147 days tracked)\n",
      "\tstress: 3.96 / 5 (137 days tracked)\n",
      "\tmotivation: 3.45 / 5 (128 days tracked)\n",
      "\tfocus: 3.51 / 5 (113 days tracked)\n"
     ]
    },
    {
     "data": {
      "image/png": "[encoded data removed]",
      "text/plain": [
       "<Figure size 432x288 with 1 Axes>"
      ]
     },
     "metadata": {
      "needs_background": "light"
     },
     "output_type": "display_data"
    },
    {
     "data": {
      "image/png": "[encoded data removed]",
      "text/plain": [
       "<Figure size 432x288 with 1 Axes>"
      ]
     },
     "metadata": {
      "needs_background": "light"
     },
     "output_type": "display_data"
    },
    {
     "data": {
      "image/png": "[encoded data removed]",
      "text/plain": [
       "<Figure size 432x288 with 1 Axes>"
      ]
     },
     "metadata": {
      "needs_background": "light"
     },
     "output_type": "display_data"
    },
    {
     "data": {
      "image/png": "[encoded data removed]",
      "text/plain": [
       "<Figure size 432x288 with 1 Axes>"
      ]
     },
     "metadata": {
      "needs_background": "light"
     },
     "output_type": "display_data"
    },
    {
     "data": {
      "image/png": "[encoded data removed]",
      "text/plain": [
       "<Figure size 432x288 with 1 Axes>"
      ]
     },
     "metadata": {
      "needs_background": "light"
     },
     "output_type": "display_data"
    },
    {
     "data": {
      "image/png": "[encoded data removed]",
      "text/plain": [
       "<Figure size 432x288 with 1 Axes>"
      ]
     },
     "metadata": {
      "needs_background": "light"
     },
     "output_type": "display_data"
    }
   ],
   "source": [
    "n = 0\n",
    "metrics = ['progress','quality', 'mood', 'stress', 'motivation', 'focus']\n",
    "\n",
    "print('Daily averages')\n",
    "for metric in metrics:\n",
    "    # Setup plotting\n",
    "    plt.figure(n)\n",
    "    n = n + 1\n",
    "    \n",
    "    # Metrics that are 0 weren't filled in either becuase I did not enter values\n",
    "    # for that day. Most likely this was because I had not started tracking that\n",
    "    # metric yet.\n",
    "    metric_series = work_df[metric][work_df[metric] > 1]\n",
    "    \n",
    "    # Print average\n",
    "    avg = metric_series.mean()\n",
    "    print('\\t{0}: {1} / 5 ({2} days tracked)'.format(metric, round(avg, 2), metric_series.size))\n",
    "\n",
    "    # Plot histogram\n",
    "#     ax = metric_series.plot.hist(bins=[1,2,3,4,5])\n",
    "    ax = metric_series.value_counts().sort_index().plot.bar()\n",
    "    # Despine\n",
    "    ax.spines['right'].set_visible(False)\n",
    "    ax.spines['top'].set_visible(False)\n",
    "    ax.spines['left'].set_visible(False)\n",
    "    \n",
    "    ax.set_title(metric)"
   ]
  },
  {
   "cell_type": "code",
   "execution_count": 22,
   "metadata": {
    "pycharm": {
     "is_executing": false,
     "name": "#%%\n"
    }
   },
   "outputs": [
    {
     "data": {
      "text/html": [
       "<style  type=\"text/css\" >\n",
       "    #T_4d9fae4c_7c37_11ea_9831_f33076787606row0_col0 {\n",
       "            background-color:  #b40426;\n",
       "            color:  #f1f1f1;\n",
       "        }    #T_4d9fae4c_7c37_11ea_9831_f33076787606row0_col1 {\n",
       "            background-color:  #4f69d9;\n",
       "            color:  #000000;\n",
       "        }    #T_4d9fae4c_7c37_11ea_9831_f33076787606row0_col2 {\n",
       "            background-color:  #3b4cc0;\n",
       "            color:  #f1f1f1;\n",
       "        }    #T_4d9fae4c_7c37_11ea_9831_f33076787606row0_col3 {\n",
       "            background-color:  #84a7fc;\n",
       "            color:  #000000;\n",
       "        }    #T_4d9fae4c_7c37_11ea_9831_f33076787606row0_col4 {\n",
       "            background-color:  #85a8fc;\n",
       "            color:  #000000;\n",
       "        }    #T_4d9fae4c_7c37_11ea_9831_f33076787606row0_col5 {\n",
       "            background-color:  #a6c4fe;\n",
       "            color:  #000000;\n",
       "        }    #T_4d9fae4c_7c37_11ea_9831_f33076787606row0_col6 {\n",
       "            background-color:  #6180e9;\n",
       "            color:  #000000;\n",
       "        }    #T_4d9fae4c_7c37_11ea_9831_f33076787606row0_col7 {\n",
       "            background-color:  #94b6ff;\n",
       "            color:  #000000;\n",
       "        }    #T_4d9fae4c_7c37_11ea_9831_f33076787606row0_col8 {\n",
       "            background-color:  #b2ccfb;\n",
       "            color:  #000000;\n",
       "        }    #T_4d9fae4c_7c37_11ea_9831_f33076787606row0_col9 {\n",
       "            background-color:  #98b9ff;\n",
       "            color:  #000000;\n",
       "        }    #T_4d9fae4c_7c37_11ea_9831_f33076787606row0_col10 {\n",
       "            background-color:  #b9d0f9;\n",
       "            color:  #000000;\n",
       "        }    #T_4d9fae4c_7c37_11ea_9831_f33076787606row0_col11 {\n",
       "            background-color:  #d3dbe7;\n",
       "            color:  #000000;\n",
       "        }    #T_4d9fae4c_7c37_11ea_9831_f33076787606row0_col12 {\n",
       "            background-color:  #ebd3c6;\n",
       "            color:  #000000;\n",
       "        }    #T_4d9fae4c_7c37_11ea_9831_f33076787606row0_col13 {\n",
       "            background-color:  #f7ba9f;\n",
       "            color:  #000000;\n",
       "        }    #T_4d9fae4c_7c37_11ea_9831_f33076787606row1_col0 {\n",
       "            background-color:  #3b4cc0;\n",
       "            color:  #f1f1f1;\n",
       "        }    #T_4d9fae4c_7c37_11ea_9831_f33076787606row1_col1 {\n",
       "            background-color:  #b40426;\n",
       "            color:  #f1f1f1;\n",
       "        }    #T_4d9fae4c_7c37_11ea_9831_f33076787606row1_col2 {\n",
       "            background-color:  #89acfd;\n",
       "            color:  #000000;\n",
       "        }    #T_4d9fae4c_7c37_11ea_9831_f33076787606row1_col3 {\n",
       "            background-color:  #3b4cc0;\n",
       "            color:  #f1f1f1;\n",
       "        }    #T_4d9fae4c_7c37_11ea_9831_f33076787606row1_col4 {\n",
       "            background-color:  #3b4cc0;\n",
       "            color:  #f1f1f1;\n",
       "        }    #T_4d9fae4c_7c37_11ea_9831_f33076787606row1_col5 {\n",
       "            background-color:  #3b4cc0;\n",
       "            color:  #f1f1f1;\n",
       "        }    #T_4d9fae4c_7c37_11ea_9831_f33076787606row1_col6 {\n",
       "            background-color:  #5977e3;\n",
       "            color:  #000000;\n",
       "        }    #T_4d9fae4c_7c37_11ea_9831_f33076787606row1_col7 {\n",
       "            background-color:  #7a9df8;\n",
       "            color:  #000000;\n",
       "        }    #T_4d9fae4c_7c37_11ea_9831_f33076787606row1_col8 {\n",
       "            background-color:  #5572df;\n",
       "            color:  #000000;\n",
       "        }    #T_4d9fae4c_7c37_11ea_9831_f33076787606row1_col9 {\n",
       "            background-color:  #9abbff;\n",
       "            color:  #000000;\n",
       "        }    #T_4d9fae4c_7c37_11ea_9831_f33076787606row1_col10 {\n",
       "            background-color:  #4b64d5;\n",
       "            color:  #f1f1f1;\n",
       "        }    #T_4d9fae4c_7c37_11ea_9831_f33076787606row1_col11 {\n",
       "            background-color:  #3b4cc0;\n",
       "            color:  #f1f1f1;\n",
       "        }    #T_4d9fae4c_7c37_11ea_9831_f33076787606row1_col12 {\n",
       "            background-color:  #3b4cc0;\n",
       "            color:  #f1f1f1;\n",
       "        }    #T_4d9fae4c_7c37_11ea_9831_f33076787606row1_col13 {\n",
       "            background-color:  #3b4cc0;\n",
       "            color:  #f1f1f1;\n",
       "        }    #T_4d9fae4c_7c37_11ea_9831_f33076787606row2_col0 {\n",
       "            background-color:  #88abfd;\n",
       "            color:  #000000;\n",
       "        }    #T_4d9fae4c_7c37_11ea_9831_f33076787606row2_col1 {\n",
       "            background-color:  #d2dbe8;\n",
       "            color:  #000000;\n",
       "        }    #T_4d9fae4c_7c37_11ea_9831_f33076787606row2_col2 {\n",
       "            background-color:  #b40426;\n",
       "            color:  #f1f1f1;\n",
       "        }    #T_4d9fae4c_7c37_11ea_9831_f33076787606row2_col3 {\n",
       "            background-color:  #7396f5;\n",
       "            color:  #000000;\n",
       "        }    #T_4d9fae4c_7c37_11ea_9831_f33076787606row2_col4 {\n",
       "            background-color:  #6180e9;\n",
       "            color:  #000000;\n",
       "        }    #T_4d9fae4c_7c37_11ea_9831_f33076787606row2_col5 {\n",
       "            background-color:  #7a9df8;\n",
       "            color:  #000000;\n",
       "        }    #T_4d9fae4c_7c37_11ea_9831_f33076787606row2_col6 {\n",
       "            background-color:  #8db0fe;\n",
       "            color:  #000000;\n",
       "        }    #T_4d9fae4c_7c37_11ea_9831_f33076787606row2_col7 {\n",
       "            background-color:  #a2c1ff;\n",
       "            color:  #000000;\n",
       "        }    #T_4d9fae4c_7c37_11ea_9831_f33076787606row2_col8 {\n",
       "            background-color:  #9fbfff;\n",
       "            color:  #000000;\n",
       "        }    #T_4d9fae4c_7c37_11ea_9831_f33076787606row2_col9 {\n",
       "            background-color:  #c0d4f5;\n",
       "            color:  #000000;\n",
       "        }    #T_4d9fae4c_7c37_11ea_9831_f33076787606row2_col10 {\n",
       "            background-color:  #89acfd;\n",
       "            color:  #000000;\n",
       "        }    #T_4d9fae4c_7c37_11ea_9831_f33076787606row2_col11 {\n",
       "            background-color:  #779af7;\n",
       "            color:  #000000;\n",
       "        }    #T_4d9fae4c_7c37_11ea_9831_f33076787606row2_col12 {\n",
       "            background-color:  #9dbdff;\n",
       "            color:  #000000;\n",
       "        }    #T_4d9fae4c_7c37_11ea_9831_f33076787606row2_col13 {\n",
       "            background-color:  #b2ccfb;\n",
       "            color:  #000000;\n",
       "        }    #T_4d9fae4c_7c37_11ea_9831_f33076787606row3_col0 {\n",
       "            background-color:  #afcafc;\n",
       "            color:  #000000;\n",
       "        }    #T_4d9fae4c_7c37_11ea_9831_f33076787606row3_col1 {\n",
       "            background-color:  #81a4fb;\n",
       "            color:  #000000;\n",
       "        }    #T_4d9fae4c_7c37_11ea_9831_f33076787606row3_col2 {\n",
       "            background-color:  #5875e1;\n",
       "            color:  #000000;\n",
       "        }    #T_4d9fae4c_7c37_11ea_9831_f33076787606row3_col3 {\n",
       "            background-color:  #b40426;\n",
       "            color:  #f1f1f1;\n",
       "        }    #T_4d9fae4c_7c37_11ea_9831_f33076787606row3_col4 {\n",
       "            background-color:  #a1c0ff;\n",
       "            color:  #000000;\n",
       "        }    #T_4d9fae4c_7c37_11ea_9831_f33076787606row3_col5 {\n",
       "            background-color:  #9ebeff;\n",
       "            color:  #000000;\n",
       "        }    #T_4d9fae4c_7c37_11ea_9831_f33076787606row3_col6 {\n",
       "            background-color:  #3b4cc0;\n",
       "            color:  #f1f1f1;\n",
       "        }    #T_4d9fae4c_7c37_11ea_9831_f33076787606row3_col7 {\n",
       "            background-color:  #9bbcff;\n",
       "            color:  #000000;\n",
       "        }    #T_4d9fae4c_7c37_11ea_9831_f33076787606row3_col8 {\n",
       "            background-color:  #8fb1fe;\n",
       "            color:  #000000;\n",
       "        }    #T_4d9fae4c_7c37_11ea_9831_f33076787606row3_col9 {\n",
       "            background-color:  #b2ccfb;\n",
       "            color:  #000000;\n",
       "        }    #T_4d9fae4c_7c37_11ea_9831_f33076787606row3_col10 {\n",
       "            background-color:  #a3c2fe;\n",
       "            color:  #000000;\n",
       "        }    #T_4d9fae4c_7c37_11ea_9831_f33076787606row3_col11 {\n",
       "            background-color:  #ccd9ed;\n",
       "            color:  #000000;\n",
       "        }    #T_4d9fae4c_7c37_11ea_9831_f33076787606row3_col12 {\n",
       "            background-color:  #adc9fd;\n",
       "            color:  #000000;\n",
       "        }    #T_4d9fae4c_7c37_11ea_9831_f33076787606row3_col13 {\n",
       "            background-color:  #cbd8ee;\n",
       "            color:  #000000;\n",
       "        }    #T_4d9fae4c_7c37_11ea_9831_f33076787606row4_col0 {\n",
       "            background-color:  #adc9fd;\n",
       "            color:  #000000;\n",
       "        }    #T_4d9fae4c_7c37_11ea_9831_f33076787606row4_col1 {\n",
       "            background-color:  #7b9ff9;\n",
       "            color:  #000000;\n",
       "        }    #T_4d9fae4c_7c37_11ea_9831_f33076787606row4_col2 {\n",
       "            background-color:  #3f53c6;\n",
       "            color:  #f1f1f1;\n",
       "        }    #T_4d9fae4c_7c37_11ea_9831_f33076787606row4_col3 {\n",
       "            background-color:  #9bbcff;\n",
       "            color:  #000000;\n",
       "        }    #T_4d9fae4c_7c37_11ea_9831_f33076787606row4_col4 {\n",
       "            background-color:  #b40426;\n",
       "            color:  #f1f1f1;\n",
       "        }    #T_4d9fae4c_7c37_11ea_9831_f33076787606row4_col5 {\n",
       "            background-color:  #cad8ef;\n",
       "            color:  #000000;\n",
       "        }    #T_4d9fae4c_7c37_11ea_9831_f33076787606row4_col6 {\n",
       "            background-color:  #6687ed;\n",
       "            color:  #000000;\n",
       "        }    #T_4d9fae4c_7c37_11ea_9831_f33076787606row4_col7 {\n",
       "            background-color:  #90b2fe;\n",
       "            color:  #000000;\n",
       "        }    #T_4d9fae4c_7c37_11ea_9831_f33076787606row4_col8 {\n",
       "            background-color:  #6687ed;\n",
       "            color:  #000000;\n",
       "        }    #T_4d9fae4c_7c37_11ea_9831_f33076787606row4_col9 {\n",
       "            background-color:  #94b6ff;\n",
       "            color:  #000000;\n",
       "        }    #T_4d9fae4c_7c37_11ea_9831_f33076787606row4_col10 {\n",
       "            background-color:  #8caffe;\n",
       "            color:  #000000;\n",
       "        }    #T_4d9fae4c_7c37_11ea_9831_f33076787606row4_col11 {\n",
       "            background-color:  #afcafc;\n",
       "            color:  #000000;\n",
       "        }    #T_4d9fae4c_7c37_11ea_9831_f33076787606row4_col12 {\n",
       "            background-color:  #adc9fd;\n",
       "            color:  #000000;\n",
       "        }    #T_4d9fae4c_7c37_11ea_9831_f33076787606row4_col13 {\n",
       "            background-color:  #d2dbe8;\n",
       "            color:  #000000;\n",
       "        }    #T_4d9fae4c_7c37_11ea_9831_f33076787606row5_col0 {\n",
       "            background-color:  #c3d5f4;\n",
       "            color:  #000000;\n",
       "        }    #T_4d9fae4c_7c37_11ea_9831_f33076787606row5_col1 {\n",
       "            background-color:  #7699f6;\n",
       "            color:  #000000;\n",
       "        }    #T_4d9fae4c_7c37_11ea_9831_f33076787606row5_col2 {\n",
       "            background-color:  #5470de;\n",
       "            color:  #000000;\n",
       "        }    #T_4d9fae4c_7c37_11ea_9831_f33076787606row5_col3 {\n",
       "            background-color:  #94b6ff;\n",
       "            color:  #000000;\n",
       "        }    #T_4d9fae4c_7c37_11ea_9831_f33076787606row5_col4 {\n",
       "            background-color:  #c6d6f1;\n",
       "            color:  #000000;\n",
       "        }    #T_4d9fae4c_7c37_11ea_9831_f33076787606row5_col5 {\n",
       "            background-color:  #b40426;\n",
       "            color:  #f1f1f1;\n",
       "        }    #T_4d9fae4c_7c37_11ea_9831_f33076787606row5_col6 {\n",
       "            background-color:  #85a8fc;\n",
       "            color:  #000000;\n",
       "        }    #T_4d9fae4c_7c37_11ea_9831_f33076787606row5_col7 {\n",
       "            background-color:  #799cf8;\n",
       "            color:  #000000;\n",
       "        }    #T_4d9fae4c_7c37_11ea_9831_f33076787606row5_col8 {\n",
       "            background-color:  #7699f6;\n",
       "            color:  #000000;\n",
       "        }    #T_4d9fae4c_7c37_11ea_9831_f33076787606row5_col9 {\n",
       "            background-color:  #a5c3fe;\n",
       "            color:  #000000;\n",
       "        }    #T_4d9fae4c_7c37_11ea_9831_f33076787606row5_col10 {\n",
       "            background-color:  #9dbdff;\n",
       "            color:  #000000;\n",
       "        }    #T_4d9fae4c_7c37_11ea_9831_f33076787606row5_col11 {\n",
       "            background-color:  #c7d7f0;\n",
       "            color:  #000000;\n",
       "        }    #T_4d9fae4c_7c37_11ea_9831_f33076787606row5_col12 {\n",
       "            background-color:  #cad8ef;\n",
       "            color:  #000000;\n",
       "        }    #T_4d9fae4c_7c37_11ea_9831_f33076787606row5_col13 {\n",
       "            background-color:  #e1dad6;\n",
       "            color:  #000000;\n",
       "        }    #T_4d9fae4c_7c37_11ea_9831_f33076787606row6_col0 {\n",
       "            background-color:  #b6cefa;\n",
       "            color:  #000000;\n",
       "        }    #T_4d9fae4c_7c37_11ea_9831_f33076787606row6_col1 {\n",
       "            background-color:  #bfd3f6;\n",
       "            color:  #000000;\n",
       "        }    #T_4d9fae4c_7c37_11ea_9831_f33076787606row6_col2 {\n",
       "            background-color:  #9dbdff;\n",
       "            color:  #000000;\n",
       "        }    #T_4d9fae4c_7c37_11ea_9831_f33076787606row6_col3 {\n",
       "            background-color:  #6687ed;\n",
       "            color:  #000000;\n",
       "        }    #T_4d9fae4c_7c37_11ea_9831_f33076787606row6_col4 {\n",
       "            background-color:  #96b7ff;\n",
       "            color:  #000000;\n",
       "        }    #T_4d9fae4c_7c37_11ea_9831_f33076787606row6_col5 {\n",
       "            background-color:  #b3cdfb;\n",
       "            color:  #000000;\n",
       "        }    #T_4d9fae4c_7c37_11ea_9831_f33076787606row6_col6 {\n",
       "            background-color:  #b40426;\n",
       "            color:  #f1f1f1;\n",
       "        }    #T_4d9fae4c_7c37_11ea_9831_f33076787606row6_col7 {\n",
       "            background-color:  #8db0fe;\n",
       "            color:  #000000;\n",
       "        }    #T_4d9fae4c_7c37_11ea_9831_f33076787606row6_col8 {\n",
       "            background-color:  #86a9fc;\n",
       "            color:  #000000;\n",
       "        }    #T_4d9fae4c_7c37_11ea_9831_f33076787606row6_col9 {\n",
       "            background-color:  #a5c3fe;\n",
       "            color:  #000000;\n",
       "        }    #T_4d9fae4c_7c37_11ea_9831_f33076787606row6_col10 {\n",
       "            background-color:  #b9d0f9;\n",
       "            color:  #000000;\n",
       "        }    #T_4d9fae4c_7c37_11ea_9831_f33076787606row6_col11 {\n",
       "            background-color:  #9bbcff;\n",
       "            color:  #000000;\n",
       "        }    #T_4d9fae4c_7c37_11ea_9831_f33076787606row6_col12 {\n",
       "            background-color:  #c3d5f4;\n",
       "            color:  #000000;\n",
       "        }    #T_4d9fae4c_7c37_11ea_9831_f33076787606row6_col13 {\n",
       "            background-color:  #ccd9ed;\n",
       "            color:  #000000;\n",
       "        }    #T_4d9fae4c_7c37_11ea_9831_f33076787606row7_col0 {\n",
       "            background-color:  #a1c0ff;\n",
       "            color:  #000000;\n",
       "        }    #T_4d9fae4c_7c37_11ea_9831_f33076787606row7_col1 {\n",
       "            background-color:  #9abbff;\n",
       "            color:  #000000;\n",
       "        }    #T_4d9fae4c_7c37_11ea_9831_f33076787606row7_col2 {\n",
       "            background-color:  #6687ed;\n",
       "            color:  #000000;\n",
       "        }    #T_4d9fae4c_7c37_11ea_9831_f33076787606row7_col3 {\n",
       "            background-color:  #7a9df8;\n",
       "            color:  #000000;\n",
       "        }    #T_4d9fae4c_7c37_11ea_9831_f33076787606row7_col4 {\n",
       "            background-color:  #7396f5;\n",
       "            color:  #000000;\n",
       "        }    #T_4d9fae4c_7c37_11ea_9831_f33076787606row7_col5 {\n",
       "            background-color:  #5f7fe8;\n",
       "            color:  #000000;\n",
       "        }    #T_4d9fae4c_7c37_11ea_9831_f33076787606row7_col6 {\n",
       "            background-color:  #3e51c5;\n",
       "            color:  #f1f1f1;\n",
       "        }    #T_4d9fae4c_7c37_11ea_9831_f33076787606row7_col7 {\n",
       "            background-color:  #b40426;\n",
       "            color:  #f1f1f1;\n",
       "        }    #T_4d9fae4c_7c37_11ea_9831_f33076787606row7_col8 {\n",
       "            background-color:  #3b4cc0;\n",
       "            color:  #f1f1f1;\n",
       "        }    #T_4d9fae4c_7c37_11ea_9831_f33076787606row7_col9 {\n",
       "            background-color:  #3b4cc0;\n",
       "            color:  #f1f1f1;\n",
       "        }    #T_4d9fae4c_7c37_11ea_9831_f33076787606row7_col10 {\n",
       "            background-color:  #3b4cc0;\n",
       "            color:  #f1f1f1;\n",
       "        }    #T_4d9fae4c_7c37_11ea_9831_f33076787606row7_col11 {\n",
       "            background-color:  #6485ec;\n",
       "            color:  #000000;\n",
       "        }    #T_4d9fae4c_7c37_11ea_9831_f33076787606row7_col12 {\n",
       "            background-color:  #6f92f3;\n",
       "            color:  #000000;\n",
       "        }    #T_4d9fae4c_7c37_11ea_9831_f33076787606row7_col13 {\n",
       "            background-color:  #92b4fe;\n",
       "            color:  #000000;\n",
       "        }    #T_4d9fae4c_7c37_11ea_9831_f33076787606row8_col0 {\n",
       "            background-color:  #d9dce1;\n",
       "            color:  #000000;\n",
       "        }    #T_4d9fae4c_7c37_11ea_9831_f33076787606row8_col1 {\n",
       "            background-color:  #a5c3fe;\n",
       "            color:  #000000;\n",
       "        }    #T_4d9fae4c_7c37_11ea_9831_f33076787606row8_col2 {\n",
       "            background-color:  #93b5fe;\n",
       "            color:  #000000;\n",
       "        }    #T_4d9fae4c_7c37_11ea_9831_f33076787606row8_col3 {\n",
       "            background-color:  #9abbff;\n",
       "            color:  #000000;\n",
       "        }    #T_4d9fae4c_7c37_11ea_9831_f33076787606row8_col4 {\n",
       "            background-color:  #7a9df8;\n",
       "            color:  #000000;\n",
       "        }    #T_4d9fae4c_7c37_11ea_9831_f33076787606row8_col5 {\n",
       "            background-color:  #8fb1fe;\n",
       "            color:  #000000;\n",
       "        }    #T_4d9fae4c_7c37_11ea_9831_f33076787606row8_col6 {\n",
       "            background-color:  #6a8bef;\n",
       "            color:  #000000;\n",
       "        }    #T_4d9fae4c_7c37_11ea_9831_f33076787606row8_col7 {\n",
       "            background-color:  #6e90f2;\n",
       "            color:  #000000;\n",
       "        }    #T_4d9fae4c_7c37_11ea_9831_f33076787606row8_col8 {\n",
       "            background-color:  #b40426;\n",
       "            color:  #f1f1f1;\n",
       "        }    #T_4d9fae4c_7c37_11ea_9831_f33076787606row8_col9 {\n",
       "            background-color:  #f08b6e;\n",
       "            color:  #000000;\n",
       "        }    #T_4d9fae4c_7c37_11ea_9831_f33076787606row8_col10 {\n",
       "            background-color:  #d85646;\n",
       "            color:  #000000;\n",
       "        }    #T_4d9fae4c_7c37_11ea_9831_f33076787606row8_col11 {\n",
       "            background-color:  #f39577;\n",
       "            color:  #000000;\n",
       "        }    #T_4d9fae4c_7c37_11ea_9831_f33076787606row8_col12 {\n",
       "            background-color:  #ee8468;\n",
       "            color:  #000000;\n",
       "        }    #T_4d9fae4c_7c37_11ea_9831_f33076787606row8_col13 {\n",
       "            background-color:  #f39778;\n",
       "            color:  #000000;\n",
       "        }    #T_4d9fae4c_7c37_11ea_9831_f33076787606row9_col0 {\n",
       "            background-color:  #a5c3fe;\n",
       "            color:  #000000;\n",
       "        }    #T_4d9fae4c_7c37_11ea_9831_f33076787606row9_col1 {\n",
       "            background-color:  #b5cdfa;\n",
       "            color:  #000000;\n",
       "        }    #T_4d9fae4c_7c37_11ea_9831_f33076787606row9_col2 {\n",
       "            background-color:  #8db0fe;\n",
       "            color:  #000000;\n",
       "        }    #T_4d9fae4c_7c37_11ea_9831_f33076787606row9_col3 {\n",
       "            background-color:  #94b6ff;\n",
       "            color:  #000000;\n",
       "        }    #T_4d9fae4c_7c37_11ea_9831_f33076787606row9_col4 {\n",
       "            background-color:  #779af7;\n",
       "            color:  #000000;\n",
       "        }    #T_4d9fae4c_7c37_11ea_9831_f33076787606row9_col5 {\n",
       "            background-color:  #8fb1fe;\n",
       "            color:  #000000;\n",
       "        }    #T_4d9fae4c_7c37_11ea_9831_f33076787606row9_col6 {\n",
       "            background-color:  #5977e3;\n",
       "            color:  #000000;\n",
       "        }    #T_4d9fae4c_7c37_11ea_9831_f33076787606row9_col7 {\n",
       "            background-color:  #3b4cc0;\n",
       "            color:  #f1f1f1;\n",
       "        }    #T_4d9fae4c_7c37_11ea_9831_f33076787606row9_col8 {\n",
       "            background-color:  #f59d7e;\n",
       "            color:  #000000;\n",
       "        }    #T_4d9fae4c_7c37_11ea_9831_f33076787606row9_col9 {\n",
       "            background-color:  #b40426;\n",
       "            color:  #f1f1f1;\n",
       "        }    #T_4d9fae4c_7c37_11ea_9831_f33076787606row9_col10 {\n",
       "            background-color:  #f59d7e;\n",
       "            color:  #000000;\n",
       "        }    #T_4d9fae4c_7c37_11ea_9831_f33076787606row9_col11 {\n",
       "            background-color:  #f7b093;\n",
       "            color:  #000000;\n",
       "        }    #T_4d9fae4c_7c37_11ea_9831_f33076787606row9_col12 {\n",
       "            background-color:  #f7b89c;\n",
       "            color:  #000000;\n",
       "        }    #T_4d9fae4c_7c37_11ea_9831_f33076787606row9_col13 {\n",
       "            background-color:  #f7b093;\n",
       "            color:  #000000;\n",
       "        }    #T_4d9fae4c_7c37_11ea_9831_f33076787606row10_col0 {\n",
       "            background-color:  #d9dce1;\n",
       "            color:  #000000;\n",
       "        }    #T_4d9fae4c_7c37_11ea_9831_f33076787606row10_col1 {\n",
       "            background-color:  #96b7ff;\n",
       "            color:  #000000;\n",
       "        }    #T_4d9fae4c_7c37_11ea_9831_f33076787606row10_col2 {\n",
       "            background-color:  #7597f6;\n",
       "            color:  #000000;\n",
       "        }    #T_4d9fae4c_7c37_11ea_9831_f33076787606row10_col3 {\n",
       "            background-color:  #a7c5fe;\n",
       "            color:  #000000;\n",
       "        }    #T_4d9fae4c_7c37_11ea_9831_f33076787606row10_col4 {\n",
       "            background-color:  #96b7ff;\n",
       "            color:  #000000;\n",
       "        }    #T_4d9fae4c_7c37_11ea_9831_f33076787606row10_col5 {\n",
       "            background-color:  #aac7fd;\n",
       "            color:  #000000;\n",
       "        }    #T_4d9fae4c_7c37_11ea_9831_f33076787606row10_col6 {\n",
       "            background-color:  #9bbcff;\n",
       "            color:  #000000;\n",
       "        }    #T_4d9fae4c_7c37_11ea_9831_f33076787606row10_col7 {\n",
       "            background-color:  #6687ed;\n",
       "            color:  #000000;\n",
       "        }    #T_4d9fae4c_7c37_11ea_9831_f33076787606row10_col8 {\n",
       "            background-color:  #d95847;\n",
       "            color:  #000000;\n",
       "        }    #T_4d9fae4c_7c37_11ea_9831_f33076787606row10_col9 {\n",
       "            background-color:  #f18f71;\n",
       "            color:  #000000;\n",
       "        }    #T_4d9fae4c_7c37_11ea_9831_f33076787606row10_col10 {\n",
       "            background-color:  #b40426;\n",
       "            color:  #f1f1f1;\n",
       "        }    #T_4d9fae4c_7c37_11ea_9831_f33076787606row10_col11 {\n",
       "            background-color:  #e57058;\n",
       "            color:  #000000;\n",
       "        }    #T_4d9fae4c_7c37_11ea_9831_f33076787606row10_col12 {\n",
       "            background-color:  #ec8165;\n",
       "            color:  #000000;\n",
       "        }    #T_4d9fae4c_7c37_11ea_9831_f33076787606row10_col13 {\n",
       "            background-color:  #f4987a;\n",
       "            color:  #000000;\n",
       "        }    #T_4d9fae4c_7c37_11ea_9831_f33076787606row11_col0 {\n",
       "            background-color:  #dddcdc;\n",
       "            color:  #000000;\n",
       "        }    #T_4d9fae4c_7c37_11ea_9831_f33076787606row11_col1 {\n",
       "            background-color:  #6485ec;\n",
       "            color:  #000000;\n",
       "        }    #T_4d9fae4c_7c37_11ea_9831_f33076787606row11_col2 {\n",
       "            background-color:  #3d50c3;\n",
       "            color:  #f1f1f1;\n",
       "        }    #T_4d9fae4c_7c37_11ea_9831_f33076787606row11_col3 {\n",
       "            background-color:  #b9d0f9;\n",
       "            color:  #000000;\n",
       "        }    #T_4d9fae4c_7c37_11ea_9831_f33076787606row11_col4 {\n",
       "            background-color:  #9dbdff;\n",
       "            color:  #000000;\n",
       "        }    #T_4d9fae4c_7c37_11ea_9831_f33076787606row11_col5 {\n",
       "            background-color:  #bcd2f7;\n",
       "            color:  #000000;\n",
       "        }    #T_4d9fae4c_7c37_11ea_9831_f33076787606row11_col6 {\n",
       "            background-color:  #5572df;\n",
       "            color:  #000000;\n",
       "        }    #T_4d9fae4c_7c37_11ea_9831_f33076787606row11_col7 {\n",
       "            background-color:  #6c8ff1;\n",
       "            color:  #000000;\n",
       "        }    #T_4d9fae4c_7c37_11ea_9831_f33076787606row11_col8 {\n",
       "            background-color:  #f6a586;\n",
       "            color:  #000000;\n",
       "        }    #T_4d9fae4c_7c37_11ea_9831_f33076787606row11_col9 {\n",
       "            background-color:  #f7ad90;\n",
       "            color:  #000000;\n",
       "        }    #T_4d9fae4c_7c37_11ea_9831_f33076787606row11_col10 {\n",
       "            background-color:  #e97a5f;\n",
       "            color:  #000000;\n",
       "        }    #T_4d9fae4c_7c37_11ea_9831_f33076787606row11_col11 {\n",
       "            background-color:  #b40426;\n",
       "            color:  #f1f1f1;\n",
       "        }    #T_4d9fae4c_7c37_11ea_9831_f33076787606row11_col12 {\n",
       "            background-color:  #e26952;\n",
       "            color:  #000000;\n",
       "        }    #T_4d9fae4c_7c37_11ea_9831_f33076787606row11_col13 {\n",
       "            background-color:  #ed8366;\n",
       "            color:  #000000;\n",
       "        }    #T_4d9fae4c_7c37_11ea_9831_f33076787606row12_col0 {\n",
       "            background-color:  #f1ccb8;\n",
       "            color:  #000000;\n",
       "        }    #T_4d9fae4c_7c37_11ea_9831_f33076787606row12_col1 {\n",
       "            background-color:  #6485ec;\n",
       "            color:  #000000;\n",
       "        }    #T_4d9fae4c_7c37_11ea_9831_f33076787606row12_col2 {\n",
       "            background-color:  #688aef;\n",
       "            color:  #000000;\n",
       "        }    #T_4d9fae4c_7c37_11ea_9831_f33076787606row12_col3 {\n",
       "            background-color:  #94b6ff;\n",
       "            color:  #000000;\n",
       "        }    #T_4d9fae4c_7c37_11ea_9831_f33076787606row12_col4 {\n",
       "            background-color:  #9abbff;\n",
       "            color:  #000000;\n",
       "        }    #T_4d9fae4c_7c37_11ea_9831_f33076787606row12_col5 {\n",
       "            background-color:  #bfd3f6;\n",
       "            color:  #000000;\n",
       "        }    #T_4d9fae4c_7c37_11ea_9831_f33076787606row12_col6 {\n",
       "            background-color:  #89acfd;\n",
       "            color:  #000000;\n",
       "        }    #T_4d9fae4c_7c37_11ea_9831_f33076787606row12_col7 {\n",
       "            background-color:  #779af7;\n",
       "            color:  #000000;\n",
       "        }    #T_4d9fae4c_7c37_11ea_9831_f33076787606row12_col8 {\n",
       "            background-color:  #f29274;\n",
       "            color:  #000000;\n",
       "        }    #T_4d9fae4c_7c37_11ea_9831_f33076787606row12_col9 {\n",
       "            background-color:  #f7b497;\n",
       "            color:  #000000;\n",
       "        }    #T_4d9fae4c_7c37_11ea_9831_f33076787606row12_col10 {\n",
       "            background-color:  #f08b6e;\n",
       "            color:  #000000;\n",
       "        }    #T_4d9fae4c_7c37_11ea_9831_f33076787606row12_col11 {\n",
       "            background-color:  #e16751;\n",
       "            color:  #000000;\n",
       "        }    #T_4d9fae4c_7c37_11ea_9831_f33076787606row12_col12 {\n",
       "            background-color:  #b40426;\n",
       "            color:  #f1f1f1;\n",
       "        }    #T_4d9fae4c_7c37_11ea_9831_f33076787606row12_col13 {\n",
       "            background-color:  #de614d;\n",
       "            color:  #000000;\n",
       "        }    #T_4d9fae4c_7c37_11ea_9831_f33076787606row13_col0 {\n",
       "            background-color:  #f5c1a9;\n",
       "            color:  #000000;\n",
       "        }    #T_4d9fae4c_7c37_11ea_9831_f33076787606row13_col1 {\n",
       "            background-color:  #3b4cc0;\n",
       "            color:  #f1f1f1;\n",
       "        }    #T_4d9fae4c_7c37_11ea_9831_f33076787606row13_col2 {\n",
       "            background-color:  #5977e3;\n",
       "            color:  #000000;\n",
       "        }    #T_4d9fae4c_7c37_11ea_9831_f33076787606row13_col3 {\n",
       "            background-color:  #97b8ff;\n",
       "            color:  #000000;\n",
       "        }    #T_4d9fae4c_7c37_11ea_9831_f33076787606row13_col4 {\n",
       "            background-color:  #a7c5fe;\n",
       "            color:  #000000;\n",
       "        }    #T_4d9fae4c_7c37_11ea_9831_f33076787606row13_col5 {\n",
       "            background-color:  #c3d5f4;\n",
       "            color:  #000000;\n",
       "        }    #T_4d9fae4c_7c37_11ea_9831_f33076787606row13_col6 {\n",
       "            background-color:  #6f92f3;\n",
       "            color:  #000000;\n",
       "        }    #T_4d9fae4c_7c37_11ea_9831_f33076787606row13_col7 {\n",
       "            background-color:  #7295f4;\n",
       "            color:  #000000;\n",
       "        }    #T_4d9fae4c_7c37_11ea_9831_f33076787606row13_col8 {\n",
       "            background-color:  #f7b79b;\n",
       "            color:  #000000;\n",
       "        }    #T_4d9fae4c_7c37_11ea_9831_f33076787606row13_col9 {\n",
       "            background-color:  #f6bda2;\n",
       "            color:  #000000;\n",
       "        }    #T_4d9fae4c_7c37_11ea_9831_f33076787606row13_col10 {\n",
       "            background-color:  #f7b497;\n",
       "            color:  #000000;\n",
       "        }    #T_4d9fae4c_7c37_11ea_9831_f33076787606row13_col11 {\n",
       "            background-color:  #f29072;\n",
       "            color:  #000000;\n",
       "        }    #T_4d9fae4c_7c37_11ea_9831_f33076787606row13_col12 {\n",
       "            background-color:  #e36b54;\n",
       "            color:  #000000;\n",
       "        }    #T_4d9fae4c_7c37_11ea_9831_f33076787606row13_col13 {\n",
       "            background-color:  #b40426;\n",
       "            color:  #f1f1f1;\n",
       "        }</style><table id=\"T_4d9fae4c_7c37_11ea_9831_f33076787606\" ><thead>    <tr>        <th class=\"blank level0\" ></th>        <th class=\"col_heading level0 col0\" >good_day</th>        <th class=\"col_heading level0 col1\" >caffeine</th>        <th class=\"col_heading level0 col2\" >hours_worked</th>        <th class=\"col_heading level0 col3\" >hrs_of_sleep</th>        <th class=\"col_heading level0 col4\" >sleep_quality</th>        <th class=\"col_heading level0 col5\" >anxiety</th>        <th class=\"col_heading level0 col6\" >energy_at_start</th>        <th class=\"col_heading level0 col7\" >prod_support</th>        <th class=\"col_heading level0 col8\" >progress</th>        <th class=\"col_heading level0 col9\" >quality</th>        <th class=\"col_heading level0 col10\" >mood</th>        <th class=\"col_heading level0 col11\" >stress</th>        <th class=\"col_heading level0 col12\" >motivation</th>        <th class=\"col_heading level0 col13\" >focus</th>    </tr></thead><tbody>\n",
       "                <tr>\n",
       "                        <th id=\"T_4d9fae4c_7c37_11ea_9831_f33076787606level0_row0\" class=\"row_heading level0 row0\" >good_day</th>\n",
       "                        <td id=\"T_4d9fae4c_7c37_11ea_9831_f33076787606row0_col0\" class=\"data row0 col0\" >1.00</td>\n",
       "                        <td id=\"T_4d9fae4c_7c37_11ea_9831_f33076787606row0_col1\" class=\"data row0 col1\" >-0.38</td>\n",
       "                        <td id=\"T_4d9fae4c_7c37_11ea_9831_f33076787606row0_col2\" class=\"data row0 col2\" >-0.05</td>\n",
       "                        <td id=\"T_4d9fae4c_7c37_11ea_9831_f33076787606row0_col3\" class=\"data row0 col3\" >0.10</td>\n",
       "                        <td id=\"T_4d9fae4c_7c37_11ea_9831_f33076787606row0_col4\" class=\"data row0 col4\" >0.09</td>\n",
       "                        <td id=\"T_4d9fae4c_7c37_11ea_9831_f33076787606row0_col5\" class=\"data row0 col5\" >0.18</td>\n",
       "                        <td id=\"T_4d9fae4c_7c37_11ea_9831_f33076787606row0_col6\" class=\"data row0 col6\" >0.13</td>\n",
       "                        <td id=\"T_4d9fae4c_7c37_11ea_9831_f33076787606row0_col7\" class=\"data row0 col7\" >0.04</td>\n",
       "                        <td id=\"T_4d9fae4c_7c37_11ea_9831_f33076787606row0_col8\" class=\"data row0 col8\" >0.29</td>\n",
       "                        <td id=\"T_4d9fae4c_7c37_11ea_9831_f33076787606row0_col9\" class=\"data row0 col9\" >0.06</td>\n",
       "                        <td id=\"T_4d9fae4c_7c37_11ea_9831_f33076787606row0_col10\" class=\"data row0 col10\" >0.29</td>\n",
       "                        <td id=\"T_4d9fae4c_7c37_11ea_9831_f33076787606row0_col11\" class=\"data row0 col11\" >0.31</td>\n",
       "                        <td id=\"T_4d9fae4c_7c37_11ea_9831_f33076787606row0_col12\" class=\"data row0 col12\" >0.44</td>\n",
       "                        <td id=\"T_4d9fae4c_7c37_11ea_9831_f33076787606row0_col13\" class=\"data row0 col13\" >0.50</td>\n",
       "            </tr>\n",
       "            <tr>\n",
       "                        <th id=\"T_4d9fae4c_7c37_11ea_9831_f33076787606level0_row1\" class=\"row_heading level0 row1\" >caffeine</th>\n",
       "                        <td id=\"T_4d9fae4c_7c37_11ea_9831_f33076787606row1_col0\" class=\"data row1 col0\" >-0.38</td>\n",
       "                        <td id=\"T_4d9fae4c_7c37_11ea_9831_f33076787606row1_col1\" class=\"data row1 col1\" >1.00</td>\n",
       "                        <td id=\"T_4d9fae4c_7c37_11ea_9831_f33076787606row1_col2\" class=\"data row1 col2\" >0.20</td>\n",
       "                        <td id=\"T_4d9fae4c_7c37_11ea_9831_f33076787606row1_col3\" class=\"data row1 col3\" >-0.16</td>\n",
       "                        <td id=\"T_4d9fae4c_7c37_11ea_9831_f33076787606row1_col4\" class=\"data row1 col4\" >-0.18</td>\n",
       "                        <td id=\"T_4d9fae4c_7c37_11ea_9831_f33076787606row1_col5\" class=\"data row1 col5\" >-0.20</td>\n",
       "                        <td id=\"T_4d9fae4c_7c37_11ea_9831_f33076787606row1_col6\" class=\"data row1 col6\" >0.11</td>\n",
       "                        <td id=\"T_4d9fae4c_7c37_11ea_9831_f33076787606row1_col7\" class=\"data row1 col7\" >-0.06</td>\n",
       "                        <td id=\"T_4d9fae4c_7c37_11ea_9831_f33076787606row1_col8\" class=\"data row1 col8\" >-0.00</td>\n",
       "                        <td id=\"T_4d9fae4c_7c37_11ea_9831_f33076787606row1_col9\" class=\"data row1 col9\" >0.06</td>\n",
       "                        <td id=\"T_4d9fae4c_7c37_11ea_9831_f33076787606row1_col10\" class=\"data row1 col10\" >-0.07</td>\n",
       "                        <td id=\"T_4d9fae4c_7c37_11ea_9831_f33076787606row1_col11\" class=\"data row1 col11\" >-0.28</td>\n",
       "                        <td id=\"T_4d9fae4c_7c37_11ea_9831_f33076787606row1_col12\" class=\"data row1 col12\" >-0.27</td>\n",
       "                        <td id=\"T_4d9fae4c_7c37_11ea_9831_f33076787606row1_col13\" class=\"data row1 col13\" >-0.48</td>\n",
       "            </tr>\n",
       "            <tr>\n",
       "                        <th id=\"T_4d9fae4c_7c37_11ea_9831_f33076787606level0_row2\" class=\"row_heading level0 row2\" >hours_worked</th>\n",
       "                        <td id=\"T_4d9fae4c_7c37_11ea_9831_f33076787606row2_col0\" class=\"data row2 col0\" >-0.05</td>\n",
       "                        <td id=\"T_4d9fae4c_7c37_11ea_9831_f33076787606row2_col1\" class=\"data row2 col1\" >0.20</td>\n",
       "                        <td id=\"T_4d9fae4c_7c37_11ea_9831_f33076787606row2_col2\" class=\"data row2 col2\" >1.00</td>\n",
       "                        <td id=\"T_4d9fae4c_7c37_11ea_9831_f33076787606row2_col3\" class=\"data row2 col3\" >0.05</td>\n",
       "                        <td id=\"T_4d9fae4c_7c37_11ea_9831_f33076787606row2_col4\" class=\"data row2 col4\" >-0.03</td>\n",
       "                        <td id=\"T_4d9fae4c_7c37_11ea_9831_f33076787606row2_col5\" class=\"data row2 col5\" >0.04</td>\n",
       "                        <td id=\"T_4d9fae4c_7c37_11ea_9831_f33076787606row2_col6\" class=\"data row2 col6\" >0.26</td>\n",
       "                        <td id=\"T_4d9fae4c_7c37_11ea_9831_f33076787606row2_col7\" class=\"data row2 col7\" >0.10</td>\n",
       "                        <td id=\"T_4d9fae4c_7c37_11ea_9831_f33076787606row2_col8\" class=\"data row2 col8\" >0.23</td>\n",
       "                        <td id=\"T_4d9fae4c_7c37_11ea_9831_f33076787606row2_col9\" class=\"data row2 col9\" >0.21</td>\n",
       "                        <td id=\"T_4d9fae4c_7c37_11ea_9831_f33076787606row2_col10\" class=\"data row2 col10\" >0.14</td>\n",
       "                        <td id=\"T_4d9fae4c_7c37_11ea_9831_f33076787606row2_col11\" class=\"data row2 col11\" >-0.04</td>\n",
       "                        <td id=\"T_4d9fae4c_7c37_11ea_9831_f33076787606row2_col12\" class=\"data row2 col12\" >0.10</td>\n",
       "                        <td id=\"T_4d9fae4c_7c37_11ea_9831_f33076787606row2_col13\" class=\"data row2 col13\" >0.05</td>\n",
       "            </tr>\n",
       "            <tr>\n",
       "                        <th id=\"T_4d9fae4c_7c37_11ea_9831_f33076787606level0_row3\" class=\"row_heading level0 row3\" >hrs_of_sleep</th>\n",
       "                        <td id=\"T_4d9fae4c_7c37_11ea_9831_f33076787606row3_col0\" class=\"data row3 col0\" >0.10</td>\n",
       "                        <td id=\"T_4d9fae4c_7c37_11ea_9831_f33076787606row3_col1\" class=\"data row3 col1\" >-0.16</td>\n",
       "                        <td id=\"T_4d9fae4c_7c37_11ea_9831_f33076787606row3_col2\" class=\"data row3 col2\" >0.05</td>\n",
       "                        <td id=\"T_4d9fae4c_7c37_11ea_9831_f33076787606row3_col3\" class=\"data row3 col3\" >1.00</td>\n",
       "                        <td id=\"T_4d9fae4c_7c37_11ea_9831_f33076787606row3_col4\" class=\"data row3 col4\" >0.18</td>\n",
       "                        <td id=\"T_4d9fae4c_7c37_11ea_9831_f33076787606row3_col5\" class=\"data row3 col5\" >0.16</td>\n",
       "                        <td id=\"T_4d9fae4c_7c37_11ea_9831_f33076787606row3_col6\" class=\"data row3 col6\" >0.01</td>\n",
       "                        <td id=\"T_4d9fae4c_7c37_11ea_9831_f33076787606row3_col7\" class=\"data row3 col7\" >0.07</td>\n",
       "                        <td id=\"T_4d9fae4c_7c37_11ea_9831_f33076787606row3_col8\" class=\"data row3 col8\" >0.18</td>\n",
       "                        <td id=\"T_4d9fae4c_7c37_11ea_9831_f33076787606row3_col9\" class=\"data row3 col9\" >0.16</td>\n",
       "                        <td id=\"T_4d9fae4c_7c37_11ea_9831_f33076787606row3_col10\" class=\"data row3 col10\" >0.22</td>\n",
       "                        <td id=\"T_4d9fae4c_7c37_11ea_9831_f33076787606row3_col11\" class=\"data row3 col11\" >0.28</td>\n",
       "                        <td id=\"T_4d9fae4c_7c37_11ea_9831_f33076787606row3_col12\" class=\"data row3 col12\" >0.16</td>\n",
       "                        <td id=\"T_4d9fae4c_7c37_11ea_9831_f33076787606row3_col13\" class=\"data row3 col13\" >0.17</td>\n",
       "            </tr>\n",
       "            <tr>\n",
       "                        <th id=\"T_4d9fae4c_7c37_11ea_9831_f33076787606level0_row4\" class=\"row_heading level0 row4\" >sleep_quality</th>\n",
       "                        <td id=\"T_4d9fae4c_7c37_11ea_9831_f33076787606row4_col0\" class=\"data row4 col0\" >0.09</td>\n",
       "                        <td id=\"T_4d9fae4c_7c37_11ea_9831_f33076787606row4_col1\" class=\"data row4 col1\" >-0.18</td>\n",
       "                        <td id=\"T_4d9fae4c_7c37_11ea_9831_f33076787606row4_col2\" class=\"data row4 col2\" >-0.03</td>\n",
       "                        <td id=\"T_4d9fae4c_7c37_11ea_9831_f33076787606row4_col3\" class=\"data row4 col3\" >0.18</td>\n",
       "                        <td id=\"T_4d9fae4c_7c37_11ea_9831_f33076787606row4_col4\" class=\"data row4 col4\" >1.00</td>\n",
       "                        <td id=\"T_4d9fae4c_7c37_11ea_9831_f33076787606row4_col5\" class=\"data row4 col5\" >0.32</td>\n",
       "                        <td id=\"T_4d9fae4c_7c37_11ea_9831_f33076787606row4_col6\" class=\"data row4 col6\" >0.15</td>\n",
       "                        <td id=\"T_4d9fae4c_7c37_11ea_9831_f33076787606row4_col7\" class=\"data row4 col7\" >0.03</td>\n",
       "                        <td id=\"T_4d9fae4c_7c37_11ea_9831_f33076787606row4_col8\" class=\"data row4 col8\" >0.05</td>\n",
       "                        <td id=\"T_4d9fae4c_7c37_11ea_9831_f33076787606row4_col9\" class=\"data row4 col9\" >0.04</td>\n",
       "                        <td id=\"T_4d9fae4c_7c37_11ea_9831_f33076787606row4_col10\" class=\"data row4 col10\" >0.15</td>\n",
       "                        <td id=\"T_4d9fae4c_7c37_11ea_9831_f33076787606row4_col11\" class=\"data row4 col11\" >0.17</td>\n",
       "                        <td id=\"T_4d9fae4c_7c37_11ea_9831_f33076787606row4_col12\" class=\"data row4 col12\" >0.16</td>\n",
       "                        <td id=\"T_4d9fae4c_7c37_11ea_9831_f33076787606row4_col13\" class=\"data row4 col13\" >0.20</td>\n",
       "            </tr>\n",
       "            <tr>\n",
       "                        <th id=\"T_4d9fae4c_7c37_11ea_9831_f33076787606level0_row5\" class=\"row_heading level0 row5\" >anxiety</th>\n",
       "                        <td id=\"T_4d9fae4c_7c37_11ea_9831_f33076787606row5_col0\" class=\"data row5 col0\" >0.18</td>\n",
       "                        <td id=\"T_4d9fae4c_7c37_11ea_9831_f33076787606row5_col1\" class=\"data row5 col1\" >-0.20</td>\n",
       "                        <td id=\"T_4d9fae4c_7c37_11ea_9831_f33076787606row5_col2\" class=\"data row5 col2\" >0.04</td>\n",
       "                        <td id=\"T_4d9fae4c_7c37_11ea_9831_f33076787606row5_col3\" class=\"data row5 col3\" >0.16</td>\n",
       "                        <td id=\"T_4d9fae4c_7c37_11ea_9831_f33076787606row5_col4\" class=\"data row5 col4\" >0.32</td>\n",
       "                        <td id=\"T_4d9fae4c_7c37_11ea_9831_f33076787606row5_col5\" class=\"data row5 col5\" >1.00</td>\n",
       "                        <td id=\"T_4d9fae4c_7c37_11ea_9831_f33076787606row5_col6\" class=\"data row5 col6\" >0.23</td>\n",
       "                        <td id=\"T_4d9fae4c_7c37_11ea_9831_f33076787606row5_col7\" class=\"data row5 col7\" >-0.06</td>\n",
       "                        <td id=\"T_4d9fae4c_7c37_11ea_9831_f33076787606row5_col8\" class=\"data row5 col8\" >0.10</td>\n",
       "                        <td id=\"T_4d9fae4c_7c37_11ea_9831_f33076787606row5_col9\" class=\"data row5 col9\" >0.11</td>\n",
       "                        <td id=\"T_4d9fae4c_7c37_11ea_9831_f33076787606row5_col10\" class=\"data row5 col10\" >0.20</td>\n",
       "                        <td id=\"T_4d9fae4c_7c37_11ea_9831_f33076787606row5_col11\" class=\"data row5 col11\" >0.26</td>\n",
       "                        <td id=\"T_4d9fae4c_7c37_11ea_9831_f33076787606row5_col12\" class=\"data row5 col12\" >0.27</td>\n",
       "                        <td id=\"T_4d9fae4c_7c37_11ea_9831_f33076787606row5_col13\" class=\"data row5 col13\" >0.29</td>\n",
       "            </tr>\n",
       "            <tr>\n",
       "                        <th id=\"T_4d9fae4c_7c37_11ea_9831_f33076787606level0_row6\" class=\"row_heading level0 row6\" >energy_at_start</th>\n",
       "                        <td id=\"T_4d9fae4c_7c37_11ea_9831_f33076787606row6_col0\" class=\"data row6 col0\" >0.13</td>\n",
       "                        <td id=\"T_4d9fae4c_7c37_11ea_9831_f33076787606row6_col1\" class=\"data row6 col1\" >0.11</td>\n",
       "                        <td id=\"T_4d9fae4c_7c37_11ea_9831_f33076787606row6_col2\" class=\"data row6 col2\" >0.26</td>\n",
       "                        <td id=\"T_4d9fae4c_7c37_11ea_9831_f33076787606row6_col3\" class=\"data row6 col3\" >0.01</td>\n",
       "                        <td id=\"T_4d9fae4c_7c37_11ea_9831_f33076787606row6_col4\" class=\"data row6 col4\" >0.15</td>\n",
       "                        <td id=\"T_4d9fae4c_7c37_11ea_9831_f33076787606row6_col5\" class=\"data row6 col5\" >0.23</td>\n",
       "                        <td id=\"T_4d9fae4c_7c37_11ea_9831_f33076787606row6_col6\" class=\"data row6 col6\" >1.00</td>\n",
       "                        <td id=\"T_4d9fae4c_7c37_11ea_9831_f33076787606row6_col7\" class=\"data row6 col7\" >0.02</td>\n",
       "                        <td id=\"T_4d9fae4c_7c37_11ea_9831_f33076787606row6_col8\" class=\"data row6 col8\" >0.16</td>\n",
       "                        <td id=\"T_4d9fae4c_7c37_11ea_9831_f33076787606row6_col9\" class=\"data row6 col9\" >0.10</td>\n",
       "                        <td id=\"T_4d9fae4c_7c37_11ea_9831_f33076787606row6_col10\" class=\"data row6 col10\" >0.30</td>\n",
       "                        <td id=\"T_4d9fae4c_7c37_11ea_9831_f33076787606row6_col11\" class=\"data row6 col11\" >0.09</td>\n",
       "                        <td id=\"T_4d9fae4c_7c37_11ea_9831_f33076787606row6_col12\" class=\"data row6 col12\" >0.24</td>\n",
       "                        <td id=\"T_4d9fae4c_7c37_11ea_9831_f33076787606row6_col13\" class=\"data row6 col13\" >0.17</td>\n",
       "            </tr>\n",
       "            <tr>\n",
       "                        <th id=\"T_4d9fae4c_7c37_11ea_9831_f33076787606level0_row7\" class=\"row_heading level0 row7\" >prod_support</th>\n",
       "                        <td id=\"T_4d9fae4c_7c37_11ea_9831_f33076787606row7_col0\" class=\"data row7 col0\" >0.04</td>\n",
       "                        <td id=\"T_4d9fae4c_7c37_11ea_9831_f33076787606row7_col1\" class=\"data row7 col1\" >-0.06</td>\n",
       "                        <td id=\"T_4d9fae4c_7c37_11ea_9831_f33076787606row7_col2\" class=\"data row7 col2\" >0.10</td>\n",
       "                        <td id=\"T_4d9fae4c_7c37_11ea_9831_f33076787606row7_col3\" class=\"data row7 col3\" >0.07</td>\n",
       "                        <td id=\"T_4d9fae4c_7c37_11ea_9831_f33076787606row7_col4\" class=\"data row7 col4\" >0.03</td>\n",
       "                        <td id=\"T_4d9fae4c_7c37_11ea_9831_f33076787606row7_col5\" class=\"data row7 col5\" >-0.06</td>\n",
       "                        <td id=\"T_4d9fae4c_7c37_11ea_9831_f33076787606row7_col6\" class=\"data row7 col6\" >0.02</td>\n",
       "                        <td id=\"T_4d9fae4c_7c37_11ea_9831_f33076787606row7_col7\" class=\"data row7 col7\" >1.00</td>\n",
       "                        <td id=\"T_4d9fae4c_7c37_11ea_9831_f33076787606row7_col8\" class=\"data row7 col8\" >-0.10</td>\n",
       "                        <td id=\"T_4d9fae4c_7c37_11ea_9831_f33076787606row7_col9\" class=\"data row7 col9\" >-0.31</td>\n",
       "                        <td id=\"T_4d9fae4c_7c37_11ea_9831_f33076787606row7_col10\" class=\"data row7 col10\" >-0.13</td>\n",
       "                        <td id=\"T_4d9fae4c_7c37_11ea_9831_f33076787606row7_col11\" class=\"data row7 col11\" >-0.11</td>\n",
       "                        <td id=\"T_4d9fae4c_7c37_11ea_9831_f33076787606row7_col12\" class=\"data row7 col12\" >-0.06</td>\n",
       "                        <td id=\"T_4d9fae4c_7c37_11ea_9831_f33076787606row7_col13\" class=\"data row7 col13\" >-0.09</td>\n",
       "            </tr>\n",
       "            <tr>\n",
       "                        <th id=\"T_4d9fae4c_7c37_11ea_9831_f33076787606level0_row8\" class=\"row_heading level0 row8\" >progress</th>\n",
       "                        <td id=\"T_4d9fae4c_7c37_11ea_9831_f33076787606row8_col0\" class=\"data row8 col0\" >0.29</td>\n",
       "                        <td id=\"T_4d9fae4c_7c37_11ea_9831_f33076787606row8_col1\" class=\"data row8 col1\" >-0.00</td>\n",
       "                        <td id=\"T_4d9fae4c_7c37_11ea_9831_f33076787606row8_col2\" class=\"data row8 col2\" >0.23</td>\n",
       "                        <td id=\"T_4d9fae4c_7c37_11ea_9831_f33076787606row8_col3\" class=\"data row8 col3\" >0.18</td>\n",
       "                        <td id=\"T_4d9fae4c_7c37_11ea_9831_f33076787606row8_col4\" class=\"data row8 col4\" >0.05</td>\n",
       "                        <td id=\"T_4d9fae4c_7c37_11ea_9831_f33076787606row8_col5\" class=\"data row8 col5\" >0.10</td>\n",
       "                        <td id=\"T_4d9fae4c_7c37_11ea_9831_f33076787606row8_col6\" class=\"data row8 col6\" >0.16</td>\n",
       "                        <td id=\"T_4d9fae4c_7c37_11ea_9831_f33076787606row8_col7\" class=\"data row8 col7\" >-0.10</td>\n",
       "                        <td id=\"T_4d9fae4c_7c37_11ea_9831_f33076787606row8_col8\" class=\"data row8 col8\" >1.00</td>\n",
       "                        <td id=\"T_4d9fae4c_7c37_11ea_9831_f33076787606row8_col9\" class=\"data row8 col9\" >0.71</td>\n",
       "                        <td id=\"T_4d9fae4c_7c37_11ea_9831_f33076787606row8_col10\" class=\"data row8 col10\" >0.88</td>\n",
       "                        <td id=\"T_4d9fae4c_7c37_11ea_9831_f33076787606row8_col11\" class=\"data row8 col11\" >0.69</td>\n",
       "                        <td id=\"T_4d9fae4c_7c37_11ea_9831_f33076787606row8_col12\" class=\"data row8 col12\" >0.74</td>\n",
       "                        <td id=\"T_4d9fae4c_7c37_11ea_9831_f33076787606row8_col13\" class=\"data row8 col13\" >0.64</td>\n",
       "            </tr>\n",
       "            <tr>\n",
       "                        <th id=\"T_4d9fae4c_7c37_11ea_9831_f33076787606level0_row9\" class=\"row_heading level0 row9\" >quality</th>\n",
       "                        <td id=\"T_4d9fae4c_7c37_11ea_9831_f33076787606row9_col0\" class=\"data row9 col0\" >0.06</td>\n",
       "                        <td id=\"T_4d9fae4c_7c37_11ea_9831_f33076787606row9_col1\" class=\"data row9 col1\" >0.06</td>\n",
       "                        <td id=\"T_4d9fae4c_7c37_11ea_9831_f33076787606row9_col2\" class=\"data row9 col2\" >0.21</td>\n",
       "                        <td id=\"T_4d9fae4c_7c37_11ea_9831_f33076787606row9_col3\" class=\"data row9 col3\" >0.16</td>\n",
       "                        <td id=\"T_4d9fae4c_7c37_11ea_9831_f33076787606row9_col4\" class=\"data row9 col4\" >0.04</td>\n",
       "                        <td id=\"T_4d9fae4c_7c37_11ea_9831_f33076787606row9_col5\" class=\"data row9 col5\" >0.11</td>\n",
       "                        <td id=\"T_4d9fae4c_7c37_11ea_9831_f33076787606row9_col6\" class=\"data row9 col6\" >0.10</td>\n",
       "                        <td id=\"T_4d9fae4c_7c37_11ea_9831_f33076787606row9_col7\" class=\"data row9 col7\" >-0.31</td>\n",
       "                        <td id=\"T_4d9fae4c_7c37_11ea_9831_f33076787606row9_col8\" class=\"data row9 col8\" >0.71</td>\n",
       "                        <td id=\"T_4d9fae4c_7c37_11ea_9831_f33076787606row9_col9\" class=\"data row9 col9\" >1.00</td>\n",
       "                        <td id=\"T_4d9fae4c_7c37_11ea_9831_f33076787606row9_col10\" class=\"data row9 col10\" >0.70</td>\n",
       "                        <td id=\"T_4d9fae4c_7c37_11ea_9831_f33076787606row9_col11\" class=\"data row9 col11\" >0.60</td>\n",
       "                        <td id=\"T_4d9fae4c_7c37_11ea_9831_f33076787606row9_col12\" class=\"data row9 col12\" >0.58</td>\n",
       "                        <td id=\"T_4d9fae4c_7c37_11ea_9831_f33076787606row9_col13\" class=\"data row9 col13\" >0.54</td>\n",
       "            </tr>\n",
       "            <tr>\n",
       "                        <th id=\"T_4d9fae4c_7c37_11ea_9831_f33076787606level0_row10\" class=\"row_heading level0 row10\" >mood</th>\n",
       "                        <td id=\"T_4d9fae4c_7c37_11ea_9831_f33076787606row10_col0\" class=\"data row10 col0\" >0.29</td>\n",
       "                        <td id=\"T_4d9fae4c_7c37_11ea_9831_f33076787606row10_col1\" class=\"data row10 col1\" >-0.07</td>\n",
       "                        <td id=\"T_4d9fae4c_7c37_11ea_9831_f33076787606row10_col2\" class=\"data row10 col2\" >0.14</td>\n",
       "                        <td id=\"T_4d9fae4c_7c37_11ea_9831_f33076787606row10_col3\" class=\"data row10 col3\" >0.22</td>\n",
       "                        <td id=\"T_4d9fae4c_7c37_11ea_9831_f33076787606row10_col4\" class=\"data row10 col4\" >0.15</td>\n",
       "                        <td id=\"T_4d9fae4c_7c37_11ea_9831_f33076787606row10_col5\" class=\"data row10 col5\" >0.20</td>\n",
       "                        <td id=\"T_4d9fae4c_7c37_11ea_9831_f33076787606row10_col6\" class=\"data row10 col6\" >0.30</td>\n",
       "                        <td id=\"T_4d9fae4c_7c37_11ea_9831_f33076787606row10_col7\" class=\"data row10 col7\" >-0.13</td>\n",
       "                        <td id=\"T_4d9fae4c_7c37_11ea_9831_f33076787606row10_col8\" class=\"data row10 col8\" >0.88</td>\n",
       "                        <td id=\"T_4d9fae4c_7c37_11ea_9831_f33076787606row10_col9\" class=\"data row10 col9\" >0.70</td>\n",
       "                        <td id=\"T_4d9fae4c_7c37_11ea_9831_f33076787606row10_col10\" class=\"data row10 col10\" >1.00</td>\n",
       "                        <td id=\"T_4d9fae4c_7c37_11ea_9831_f33076787606row10_col11\" class=\"data row10 col11\" >0.80</td>\n",
       "                        <td id=\"T_4d9fae4c_7c37_11ea_9831_f33076787606row10_col12\" class=\"data row10 col12\" >0.75</td>\n",
       "                        <td id=\"T_4d9fae4c_7c37_11ea_9831_f33076787606row10_col13\" class=\"data row10 col13\" >0.63</td>\n",
       "            </tr>\n",
       "            <tr>\n",
       "                        <th id=\"T_4d9fae4c_7c37_11ea_9831_f33076787606level0_row11\" class=\"row_heading level0 row11\" >stress</th>\n",
       "                        <td id=\"T_4d9fae4c_7c37_11ea_9831_f33076787606row11_col0\" class=\"data row11 col0\" >0.31</td>\n",
       "                        <td id=\"T_4d9fae4c_7c37_11ea_9831_f33076787606row11_col1\" class=\"data row11 col1\" >-0.28</td>\n",
       "                        <td id=\"T_4d9fae4c_7c37_11ea_9831_f33076787606row11_col2\" class=\"data row11 col2\" >-0.04</td>\n",
       "                        <td id=\"T_4d9fae4c_7c37_11ea_9831_f33076787606row11_col3\" class=\"data row11 col3\" >0.28</td>\n",
       "                        <td id=\"T_4d9fae4c_7c37_11ea_9831_f33076787606row11_col4\" class=\"data row11 col4\" >0.17</td>\n",
       "                        <td id=\"T_4d9fae4c_7c37_11ea_9831_f33076787606row11_col5\" class=\"data row11 col5\" >0.26</td>\n",
       "                        <td id=\"T_4d9fae4c_7c37_11ea_9831_f33076787606row11_col6\" class=\"data row11 col6\" >0.09</td>\n",
       "                        <td id=\"T_4d9fae4c_7c37_11ea_9831_f33076787606row11_col7\" class=\"data row11 col7\" >-0.11</td>\n",
       "                        <td id=\"T_4d9fae4c_7c37_11ea_9831_f33076787606row11_col8\" class=\"data row11 col8\" >0.69</td>\n",
       "                        <td id=\"T_4d9fae4c_7c37_11ea_9831_f33076787606row11_col9\" class=\"data row11 col9\" >0.60</td>\n",
       "                        <td id=\"T_4d9fae4c_7c37_11ea_9831_f33076787606row11_col10\" class=\"data row11 col10\" >0.80</td>\n",
       "                        <td id=\"T_4d9fae4c_7c37_11ea_9831_f33076787606row11_col11\" class=\"data row11 col11\" >1.00</td>\n",
       "                        <td id=\"T_4d9fae4c_7c37_11ea_9831_f33076787606row11_col12\" class=\"data row11 col12\" >0.82</td>\n",
       "                        <td id=\"T_4d9fae4c_7c37_11ea_9831_f33076787606row11_col13\" class=\"data row11 col13\" >0.71</td>\n",
       "            </tr>\n",
       "            <tr>\n",
       "                        <th id=\"T_4d9fae4c_7c37_11ea_9831_f33076787606level0_row12\" class=\"row_heading level0 row12\" >motivation</th>\n",
       "                        <td id=\"T_4d9fae4c_7c37_11ea_9831_f33076787606row12_col0\" class=\"data row12 col0\" >0.44</td>\n",
       "                        <td id=\"T_4d9fae4c_7c37_11ea_9831_f33076787606row12_col1\" class=\"data row12 col1\" >-0.27</td>\n",
       "                        <td id=\"T_4d9fae4c_7c37_11ea_9831_f33076787606row12_col2\" class=\"data row12 col2\" >0.10</td>\n",
       "                        <td id=\"T_4d9fae4c_7c37_11ea_9831_f33076787606row12_col3\" class=\"data row12 col3\" >0.16</td>\n",
       "                        <td id=\"T_4d9fae4c_7c37_11ea_9831_f33076787606row12_col4\" class=\"data row12 col4\" >0.16</td>\n",
       "                        <td id=\"T_4d9fae4c_7c37_11ea_9831_f33076787606row12_col5\" class=\"data row12 col5\" >0.27</td>\n",
       "                        <td id=\"T_4d9fae4c_7c37_11ea_9831_f33076787606row12_col6\" class=\"data row12 col6\" >0.24</td>\n",
       "                        <td id=\"T_4d9fae4c_7c37_11ea_9831_f33076787606row12_col7\" class=\"data row12 col7\" >-0.06</td>\n",
       "                        <td id=\"T_4d9fae4c_7c37_11ea_9831_f33076787606row12_col8\" class=\"data row12 col8\" >0.74</td>\n",
       "                        <td id=\"T_4d9fae4c_7c37_11ea_9831_f33076787606row12_col9\" class=\"data row12 col9\" >0.58</td>\n",
       "                        <td id=\"T_4d9fae4c_7c37_11ea_9831_f33076787606row12_col10\" class=\"data row12 col10\" >0.75</td>\n",
       "                        <td id=\"T_4d9fae4c_7c37_11ea_9831_f33076787606row12_col11\" class=\"data row12 col11\" >0.82</td>\n",
       "                        <td id=\"T_4d9fae4c_7c37_11ea_9831_f33076787606row12_col12\" class=\"data row12 col12\" >1.00</td>\n",
       "                        <td id=\"T_4d9fae4c_7c37_11ea_9831_f33076787606row12_col13\" class=\"data row12 col13\" >0.81</td>\n",
       "            </tr>\n",
       "            <tr>\n",
       "                        <th id=\"T_4d9fae4c_7c37_11ea_9831_f33076787606level0_row13\" class=\"row_heading level0 row13\" >focus</th>\n",
       "                        <td id=\"T_4d9fae4c_7c37_11ea_9831_f33076787606row13_col0\" class=\"data row13 col0\" >0.50</td>\n",
       "                        <td id=\"T_4d9fae4c_7c37_11ea_9831_f33076787606row13_col1\" class=\"data row13 col1\" >-0.48</td>\n",
       "                        <td id=\"T_4d9fae4c_7c37_11ea_9831_f33076787606row13_col2\" class=\"data row13 col2\" >0.05</td>\n",
       "                        <td id=\"T_4d9fae4c_7c37_11ea_9831_f33076787606row13_col3\" class=\"data row13 col3\" >0.17</td>\n",
       "                        <td id=\"T_4d9fae4c_7c37_11ea_9831_f33076787606row13_col4\" class=\"data row13 col4\" >0.20</td>\n",
       "                        <td id=\"T_4d9fae4c_7c37_11ea_9831_f33076787606row13_col5\" class=\"data row13 col5\" >0.29</td>\n",
       "                        <td id=\"T_4d9fae4c_7c37_11ea_9831_f33076787606row13_col6\" class=\"data row13 col6\" >0.17</td>\n",
       "                        <td id=\"T_4d9fae4c_7c37_11ea_9831_f33076787606row13_col7\" class=\"data row13 col7\" >-0.09</td>\n",
       "                        <td id=\"T_4d9fae4c_7c37_11ea_9831_f33076787606row13_col8\" class=\"data row13 col8\" >0.64</td>\n",
       "                        <td id=\"T_4d9fae4c_7c37_11ea_9831_f33076787606row13_col9\" class=\"data row13 col9\" >0.54</td>\n",
       "                        <td id=\"T_4d9fae4c_7c37_11ea_9831_f33076787606row13_col10\" class=\"data row13 col10\" >0.63</td>\n",
       "                        <td id=\"T_4d9fae4c_7c37_11ea_9831_f33076787606row13_col11\" class=\"data row13 col11\" >0.71</td>\n",
       "                        <td id=\"T_4d9fae4c_7c37_11ea_9831_f33076787606row13_col12\" class=\"data row13 col12\" >0.81</td>\n",
       "                        <td id=\"T_4d9fae4c_7c37_11ea_9831_f33076787606row13_col13\" class=\"data row13 col13\" >1.00</td>\n",
       "            </tr>\n",
       "    </tbody></table>"
      ],
      "text/plain": [
       "<pandas.io.formats.style.Styler at 0x7f13c3d47e50>"
      ]
     },
     "execution_count": 22,
     "metadata": {},
     "output_type": "execute_result"
    }
   ],
   "source": [
    "corr = work_df.corr()\n",
    "corr.style.background_gradient(cmap='coolwarm').set_precision(2)"
   ]
  },
  {
   "cell_type": "code",
   "execution_count": 30,
   "metadata": {},
   "outputs": [
    {
     "data": {
      "text/plain": [
       "<matplotlib.axes._subplots.AxesSubplot at 0x7f13c15a8d50>"
      ]
     },
     "execution_count": 30,
     "metadata": {},
     "output_type": "execute_result"
    },
    {
     "data": {
      "image/png": "[encoded data removed]",
      "text/plain": [
       "<Figure size 1008x720 with 1 Axes>"
      ]
     },
     "metadata": {
      "needs_background": "light"
     },
     "output_type": "display_data"
    }
   ],
   "source": [
    "fig, ax = plt.subplots(figsize=(14, 10))\n",
    "sns.heatmap(work_df.corr(), annot=True, fmt='.2f', \n",
    "            cmap=plt.get_cmap('coolwarm'), cbar=False, ax=ax)\n",
    "# ax.set_yticklabels(ax.get_yticklabels(), rotation=\"horizontal\")"
   ]
  },
  {
   "cell_type": "code",
   "execution_count": 23,
   "metadata": {},
   "outputs": [
    {
     "data": {
      "text/plain": [
       "<matplotlib.axes._subplots.AxesSubplot at 0x7f13c360ddd0>"
      ]
     },
     "execution_count": 23,
     "metadata": {},
     "output_type": "execute_result"
    },
    {
     "data": {
      "image/png": "[encoded data removed]",
      "text/plain": [
       "<Figure size 432x288 with 1 Axes>"
      ]
     },
     "metadata": {
      "needs_background": "light"
     },
     "output_type": "display_data"
    }
   ],
   "source": [
    "work_df.plot(x='date', y='caffeine')"
   ]
  },
  {
   "cell_type": "code",
   "execution_count": 108,
   "metadata": {},
   "outputs": [],
   "source": [
    "def get_corr_gt(data, threshold=0.5):\n",
    "    relations = []\n",
    "    completed = []\n",
    "    for x in data.columns:\n",
    "        for y in data.columns:\n",
    "            completed.append(x)\n",
    "            \n",
    "            if x == y:\n",
    "                continue\n",
    "            if abs(data[x][y]) < threshold:\n",
    "                continue\n",
    "            if y in completed:\n",
    "                continue\n",
    "                \n",
    "            relations.append('{0}-{1} ({2})'.format(x, y, round(data[x][y],2)))\n",
    "    return relations"
   ]
  },
  {
   "cell_type": "code",
   "execution_count": 127,
   "metadata": {},
   "outputs": [
    {
     "name": "stdout",
     "output_type": "stream",
     "text": [
      "Correlations > 0.75\n",
      "progress-mood (0.88)\n",
      "mood-stress (0.8)\n",
      "mood-motivation (0.75)\n",
      "stress-motivation (0.82)\n",
      "motivation-focus (0.81)\n"
     ]
    }
   ],
   "source": [
    "print('Correlations > 0.75')\n",
    "for x in get_corr_gt(corr, 0.75):\n",
    "    print(x)"
   ]
  },
  {
   "cell_type": "code",
   "execution_count": 43,
   "metadata": {
    "pycharm": {
     "is_executing": false,
     "name": "#%%\n"
    }
   },
   "outputs": [],
   "source": [
    "# Considered also not including prod support weekends but\n",
    "# I ended up doing so little work for prod support \n",
    "# on those weekends it seems unnecessary. (Prod support\n",
    "# is our team's manual support for our application where\n",
    "# an engineer is on call to support and fix any issues\n",
    "# that come up)\n",
    "weekends_df = df[(df['weekend'] == True)]"
   ]
  },
  {
   "cell_type": "code",
   "execution_count": 44,
   "metadata": {
    "pycharm": {
     "is_executing": false,
     "name": "#%%\n"
    }
   },
   "outputs": [
    {
     "data": {
      "text/plain": [
       "3.25"
      ]
     },
     "execution_count": 44,
     "metadata": {},
     "output_type": "execute_result"
    }
   ],
   "source": [
    "weekends_df['hours_worked'].mean()"
   ]
  },
  {
   "cell_type": "code",
   "execution_count": 145,
   "metadata": {},
   "outputs": [
    {
     "data": {
      "text/plain": [
       "<matplotlib.axes._subplots.AxesSubplot at 0x7f08e6589250>"
      ]
     },
     "execution_count": 145,
     "metadata": {},
     "output_type": "execute_result"
    },
    {
     "data": {
      "image/png": "[encoded data removed]",
      "text/plain": [
       "<Figure size 432x288 with 1 Axes>"
      ]
     },
     "metadata": {
      "needs_background": "light"
     },
     "output_type": "display_data"
    }
   ],
   "source": [
    "weekends_df['hours_worked'].value_counts().sort_index().plot.bar()"
   ]
  },
  {
   "cell_type": "code",
   "execution_count": 122,
   "metadata": {},
   "outputs": [
    {
     "name": "stdout",
     "output_type": "stream",
     "text": [
      "Weekend days worked: 23\n"
     ]
    }
   ],
   "source": [
    "days_worked = weekends_df['hours_worked'].dropna().size\n",
    "print('Weekend days worked: {0}'.format(days_worked))"
   ]
  },
  {
   "cell_type": "code",
   "execution_count": 125,
   "metadata": {},
   "outputs": [
    {
     "name": "stdout",
     "output_type": "stream",
     "text": [
      "Percent of weekend days worked: 37.7%\n"
     ]
    }
   ],
   "source": [
    "percent_worked = (days_worked / weekends_df.shape[0]) * 100\n",
    "print('Percent of weekend days worked: {0}%'.format(round(percent_worked,1)))"
   ]
  }
 ],
 "metadata": {
  "kernelspec": {
   "display_name": "Python 3",
   "language": "python",
   "name": "python3"
  },
  "language_info": {
   "codemirror_mode": {
    "name": "ipython",
    "version": 3
   },
   "file_extension": ".py",
   "mimetype": "text/x-python",
   "name": "python",
   "nbconvert_exporter": "python",
   "pygments_lexer": "ipython3",
   "version": "3.7.5"
  },
  "pycharm": {
   "stem_cell": {
    "cell_type": "raw",
    "metadata": {
     "collapsed": false
    },
    "source": []
   }
  }
 },
 "nbformat": 4,
 "nbformat_minor": 1
}
